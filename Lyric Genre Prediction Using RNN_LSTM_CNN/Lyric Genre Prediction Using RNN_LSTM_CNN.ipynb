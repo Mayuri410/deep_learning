{
  "cells": [
    {
      "cell_type": "code",
      "execution_count": 3,
      "metadata": {
        "id": "9f78a098"
      },
      "outputs": [],
      "source": [
        "#Importing required libraries\n",
        "import re\n",
        "import pandas as pd\n",
        "import numpy as np\n",
        "import matplotlib.pyplot as plt\n",
        "from tensorflow.keras.preprocessing.text import text_to_word_sequence\n",
        "from tensorflow.keras.preprocessing.text import Tokenizer\n",
        "from tensorflow.keras.preprocessing import sequence\n",
        "from tensorflow.keras import Sequential\n",
        "from tensorflow.keras.layers import Dense, Dropout, Activation, Flatten,Bidirectional,LSTM, Embedding, Conv1D, GlobalMaxPooling1D, GlobalAveragePooling1D,MaxPooling1D\n",
        "import tensorflow as tf\n",
        "from tensorflow.keras import layers\n",
        "from sklearn.model_selection import train_test_split\n",
        "from sklearn.metrics import accuracy_score,classification_report,confusion_matrix\n",
        "!! pip install -q pyyaml h5py\n",
        "import h5py\n",
        "from tensorflow.keras import optimizers\n",
        "from prettytable import PrettyTable\n",
        "from keras.models import load_model\n",
        "from keras.models import Model\n"
      ],
      "id": "9f78a098"
    },
    {
      "cell_type": "code",
      "execution_count": 4,
      "metadata": {
        "colab": {
          "base_uri": "https://localhost:8080/"
        },
        "id": "6WXFOmWWLApy",
        "outputId": "7a03a117-2764-4cc6-8e5a-20121edb859d"
      },
      "outputs": [
        {
          "output_type": "stream",
          "name": "stdout",
          "text": [
            "Mounted at /content/drive\n"
          ]
        }
      ],
      "source": [
        "from google.colab import drive\n",
        "drive.mount('/content/drive')"
      ],
      "id": "6WXFOmWWLApy"
    },
    {
      "cell_type": "markdown",
      "source": [
        "**IMPORTING DATASET**\n",
        "\n",
        "\n",
        "\n"
      ],
      "metadata": {
        "id": "4KipiablH5Cs"
      },
      "id": "4KipiablH5Cs"
    },
    {
      "cell_type": "code",
      "execution_count": 5,
      "metadata": {
        "id": "717ee9dc"
      },
      "outputs": [],
      "source": [
        "#Read csv file using pandas\n",
        "df = pd.read_csv('/content/drive/MyDrive/train.csv')"
      ],
      "id": "717ee9dc"
    },
    {
      "cell_type": "code",
      "execution_count": 6,
      "metadata": {
        "colab": {
          "base_uri": "https://localhost:8080/",
          "height": 206
        },
        "id": "10dec684",
        "outputId": "be379ee6-4837-4140-edb3-6236709b686c"
      },
      "outputs": [
        {
          "output_type": "execute_result",
          "data": {
            "text/plain": [
              "      Artist                     Song Genre Language  \\\n",
              "0  12 stones            world so cold  Rock       en   \n",
              "1  12 stones                   broken  Rock       en   \n",
              "2  12 stones             3 leaf loser  Rock       en   \n",
              "3  12 stones  anthem for the underdog  Rock       en   \n",
              "4  12 stones               adrenaline  Rock       en   \n",
              "\n",
              "                                              Lyrics  \n",
              "0  It starts with pain, followed by hate\\nFueled ...  \n",
              "1  Freedom!\\nAlone again again alone\\nPatiently w...  \n",
              "2  Biting the hand that feeds you, lying to the v...  \n",
              "3  You say you know just who I am\\nBut you can't ...  \n",
              "4  My heart is beating faster can't control these...  "
            ],
            "text/html": [
              "\n",
              "  <div id=\"df-753fe04d-e477-40e7-a221-6acb84410725\">\n",
              "    <div class=\"colab-df-container\">\n",
              "      <div>\n",
              "<style scoped>\n",
              "    .dataframe tbody tr th:only-of-type {\n",
              "        vertical-align: middle;\n",
              "    }\n",
              "\n",
              "    .dataframe tbody tr th {\n",
              "        vertical-align: top;\n",
              "    }\n",
              "\n",
              "    .dataframe thead th {\n",
              "        text-align: right;\n",
              "    }\n",
              "</style>\n",
              "<table border=\"1\" class=\"dataframe\">\n",
              "  <thead>\n",
              "    <tr style=\"text-align: right;\">\n",
              "      <th></th>\n",
              "      <th>Artist</th>\n",
              "      <th>Song</th>\n",
              "      <th>Genre</th>\n",
              "      <th>Language</th>\n",
              "      <th>Lyrics</th>\n",
              "    </tr>\n",
              "  </thead>\n",
              "  <tbody>\n",
              "    <tr>\n",
              "      <th>0</th>\n",
              "      <td>12 stones</td>\n",
              "      <td>world so cold</td>\n",
              "      <td>Rock</td>\n",
              "      <td>en</td>\n",
              "      <td>It starts with pain, followed by hate\\nFueled ...</td>\n",
              "    </tr>\n",
              "    <tr>\n",
              "      <th>1</th>\n",
              "      <td>12 stones</td>\n",
              "      <td>broken</td>\n",
              "      <td>Rock</td>\n",
              "      <td>en</td>\n",
              "      <td>Freedom!\\nAlone again again alone\\nPatiently w...</td>\n",
              "    </tr>\n",
              "    <tr>\n",
              "      <th>2</th>\n",
              "      <td>12 stones</td>\n",
              "      <td>3 leaf loser</td>\n",
              "      <td>Rock</td>\n",
              "      <td>en</td>\n",
              "      <td>Biting the hand that feeds you, lying to the v...</td>\n",
              "    </tr>\n",
              "    <tr>\n",
              "      <th>3</th>\n",
              "      <td>12 stones</td>\n",
              "      <td>anthem for the underdog</td>\n",
              "      <td>Rock</td>\n",
              "      <td>en</td>\n",
              "      <td>You say you know just who I am\\nBut you can't ...</td>\n",
              "    </tr>\n",
              "    <tr>\n",
              "      <th>4</th>\n",
              "      <td>12 stones</td>\n",
              "      <td>adrenaline</td>\n",
              "      <td>Rock</td>\n",
              "      <td>en</td>\n",
              "      <td>My heart is beating faster can't control these...</td>\n",
              "    </tr>\n",
              "  </tbody>\n",
              "</table>\n",
              "</div>\n",
              "      <button class=\"colab-df-convert\" onclick=\"convertToInteractive('df-753fe04d-e477-40e7-a221-6acb84410725')\"\n",
              "              title=\"Convert this dataframe to an interactive table.\"\n",
              "              style=\"display:none;\">\n",
              "        \n",
              "  <svg xmlns=\"http://www.w3.org/2000/svg\" height=\"24px\"viewBox=\"0 0 24 24\"\n",
              "       width=\"24px\">\n",
              "    <path d=\"M0 0h24v24H0V0z\" fill=\"none\"/>\n",
              "    <path d=\"M18.56 5.44l.94 2.06.94-2.06 2.06-.94-2.06-.94-.94-2.06-.94 2.06-2.06.94zm-11 1L8.5 8.5l.94-2.06 2.06-.94-2.06-.94L8.5 2.5l-.94 2.06-2.06.94zm10 10l.94 2.06.94-2.06 2.06-.94-2.06-.94-.94-2.06-.94 2.06-2.06.94z\"/><path d=\"M17.41 7.96l-1.37-1.37c-.4-.4-.92-.59-1.43-.59-.52 0-1.04.2-1.43.59L10.3 9.45l-7.72 7.72c-.78.78-.78 2.05 0 2.83L4 21.41c.39.39.9.59 1.41.59.51 0 1.02-.2 1.41-.59l7.78-7.78 2.81-2.81c.8-.78.8-2.07 0-2.86zM5.41 20L4 18.59l7.72-7.72 1.47 1.35L5.41 20z\"/>\n",
              "  </svg>\n",
              "      </button>\n",
              "      \n",
              "  <style>\n",
              "    .colab-df-container {\n",
              "      display:flex;\n",
              "      flex-wrap:wrap;\n",
              "      gap: 12px;\n",
              "    }\n",
              "\n",
              "    .colab-df-convert {\n",
              "      background-color: #E8F0FE;\n",
              "      border: none;\n",
              "      border-radius: 50%;\n",
              "      cursor: pointer;\n",
              "      display: none;\n",
              "      fill: #1967D2;\n",
              "      height: 32px;\n",
              "      padding: 0 0 0 0;\n",
              "      width: 32px;\n",
              "    }\n",
              "\n",
              "    .colab-df-convert:hover {\n",
              "      background-color: #E2EBFA;\n",
              "      box-shadow: 0px 1px 2px rgba(60, 64, 67, 0.3), 0px 1px 3px 1px rgba(60, 64, 67, 0.15);\n",
              "      fill: #174EA6;\n",
              "    }\n",
              "\n",
              "    [theme=dark] .colab-df-convert {\n",
              "      background-color: #3B4455;\n",
              "      fill: #D2E3FC;\n",
              "    }\n",
              "\n",
              "    [theme=dark] .colab-df-convert:hover {\n",
              "      background-color: #434B5C;\n",
              "      box-shadow: 0px 1px 3px 1px rgba(0, 0, 0, 0.15);\n",
              "      filter: drop-shadow(0px 1px 2px rgba(0, 0, 0, 0.3));\n",
              "      fill: #FFFFFF;\n",
              "    }\n",
              "  </style>\n",
              "\n",
              "      <script>\n",
              "        const buttonEl =\n",
              "          document.querySelector('#df-753fe04d-e477-40e7-a221-6acb84410725 button.colab-df-convert');\n",
              "        buttonEl.style.display =\n",
              "          google.colab.kernel.accessAllowed ? 'block' : 'none';\n",
              "\n",
              "        async function convertToInteractive(key) {\n",
              "          const element = document.querySelector('#df-753fe04d-e477-40e7-a221-6acb84410725');\n",
              "          const dataTable =\n",
              "            await google.colab.kernel.invokeFunction('convertToInteractive',\n",
              "                                                     [key], {});\n",
              "          if (!dataTable) return;\n",
              "\n",
              "          const docLinkHtml = 'Like what you see? Visit the ' +\n",
              "            '<a target=\"_blank\" href=https://colab.research.google.com/notebooks/data_table.ipynb>data table notebook</a>'\n",
              "            + ' to learn more about interactive tables.';\n",
              "          element.innerHTML = '';\n",
              "          dataTable['output_type'] = 'display_data';\n",
              "          await google.colab.output.renderOutput(dataTable, element);\n",
              "          const docLink = document.createElement('div');\n",
              "          docLink.innerHTML = docLinkHtml;\n",
              "          element.appendChild(docLink);\n",
              "        }\n",
              "      </script>\n",
              "    </div>\n",
              "  </div>\n",
              "  "
            ]
          },
          "metadata": {},
          "execution_count": 6
        }
      ],
      "source": [
        "df.head()"
      ],
      "id": "10dec684"
    },
    {
      "cell_type": "code",
      "execution_count": 7,
      "metadata": {
        "colab": {
          "base_uri": "https://localhost:8080/"
        },
        "id": "80fa64c0",
        "outputId": "76f25cd9-92fc-4964-da83-f5a7c17a5055"
      },
      "outputs": [
        {
          "output_type": "stream",
          "name": "stdout",
          "text": [
            "<class 'pandas.core.frame.DataFrame'>\n",
            "RangeIndex: 290183 entries, 0 to 290182\n",
            "Data columns (total 5 columns):\n",
            " #   Column    Non-Null Count   Dtype \n",
            "---  ------    --------------   ----- \n",
            " 0   Artist    290183 non-null  object\n",
            " 1   Song      290182 non-null  object\n",
            " 2   Genre     290183 non-null  object\n",
            " 3   Language  290179 non-null  object\n",
            " 4   Lyrics    290148 non-null  object\n",
            "dtypes: object(5)\n",
            "memory usage: 11.1+ MB\n"
          ]
        }
      ],
      "source": [
        "df.info()"
      ],
      "id": "80fa64c0"
    },
    {
      "cell_type": "code",
      "execution_count": 8,
      "metadata": {
        "colab": {
          "base_uri": "https://localhost:8080/"
        },
        "id": "a14407a4",
        "outputId": "a2ded727-b15a-4367-96ab-b4aa964f16b5"
      },
      "outputs": [
        {
          "output_type": "execute_result",
          "data": {
            "text/plain": [
              "intro                                     163\n",
              "home                                      148\n",
              "hold on                                   116\n",
              "have yourself a merry little christmas    113\n",
              "goodbye                                   112\n",
              "                                         ... \n",
              "sorte que a gente tem a vida inteira        1\n",
              "som de porta-mala                           1\n",
              "solteiro largado                            1\n",
              "só eu amei                                  1\n",
              "iceberg meadows                             1\n",
              "Name: Song, Length: 164357, dtype: int64"
            ]
          },
          "metadata": {},
          "execution_count": 8
        }
      ],
      "source": [
        "df.Song.value_counts()"
      ],
      "id": "a14407a4"
    },
    {
      "cell_type": "markdown",
      "source": [
        "**DATA CLEANING**"
      ],
      "metadata": {
        "id": "4hdD8QoLHt9e"
      },
      "id": "4hdD8QoLHt9e"
    },
    {
      "cell_type": "code",
      "execution_count": 9,
      "metadata": {
        "id": "552f9541"
      },
      "outputs": [],
      "source": [
        "songs= df['Lyrics']"
      ],
      "id": "552f9541"
    },
    {
      "cell_type": "code",
      "execution_count": 10,
      "metadata": {
        "id": "1e89db83"
      },
      "outputs": [],
      "source": [
        "songs={'\\n':' '}"
      ],
      "id": "1e89db83"
    },
    {
      "cell_type": "code",
      "execution_count": 11,
      "metadata": {
        "id": "60051556"
      },
      "outputs": [],
      "source": [
        "df.replace(songs,regex=True,inplace=True)"
      ],
      "id": "60051556"
    },
    {
      "cell_type": "code",
      "execution_count": 12,
      "metadata": {
        "colab": {
          "base_uri": "https://localhost:8080/",
          "height": 424
        },
        "id": "f6aa038f",
        "outputId": "e630631d-d296-46f0-be9f-533a70fabedf"
      },
      "outputs": [
        {
          "output_type": "execute_result",
          "data": {
            "text/plain": [
              "                  Artist                               Song  Genre Language  \\\n",
              "0              12 stones                      world so cold   Rock       en   \n",
              "1              12 stones                             broken   Rock       en   \n",
              "2              12 stones                       3 leaf loser   Rock       en   \n",
              "3              12 stones            anthem for the underdog   Rock       en   \n",
              "4              12 stones                         adrenaline   Rock       en   \n",
              "...                  ...                                ...    ...      ...   \n",
              "290178      bobby womack  i wish he didn t trust me so much    R&B       en   \n",
              "290179     bad boys blue                 i totally miss you    Pop       en   \n",
              "290180       celine dion                     sorry for love    Pop       en   \n",
              "290181          dan bern                      cure for aids  Indie       en   \n",
              "290182  crawdad republic                    iceberg meadows    Pop       en   \n",
              "\n",
              "                                                   Lyrics  \n",
              "0       It starts with pain, followed by hate Fueled b...  \n",
              "1       Freedom! Alone again again alone Patiently wai...  \n",
              "2       Biting the hand that feeds you, lying to the v...  \n",
              "3       You say you know just who I am But you can't i...  \n",
              "4       My heart is beating faster can't control these...  \n",
              "...                                                   ...  \n",
              "290178  I'm the best friend he's got I'd give him the ...  \n",
              "290179  Bad Boys Blue \"I Totally Miss You\" I did you w...  \n",
              "290180  Forgive me for the things That I never said to...  \n",
              "290181  The day they found a cure for AIDS The day the...  \n",
              "290182  Fourth of July has come, it's custom that we g...  \n",
              "\n",
              "[290183 rows x 5 columns]"
            ],
            "text/html": [
              "\n",
              "  <div id=\"df-ccb3888d-a696-4ddc-8e89-83a57f4fe9ba\">\n",
              "    <div class=\"colab-df-container\">\n",
              "      <div>\n",
              "<style scoped>\n",
              "    .dataframe tbody tr th:only-of-type {\n",
              "        vertical-align: middle;\n",
              "    }\n",
              "\n",
              "    .dataframe tbody tr th {\n",
              "        vertical-align: top;\n",
              "    }\n",
              "\n",
              "    .dataframe thead th {\n",
              "        text-align: right;\n",
              "    }\n",
              "</style>\n",
              "<table border=\"1\" class=\"dataframe\">\n",
              "  <thead>\n",
              "    <tr style=\"text-align: right;\">\n",
              "      <th></th>\n",
              "      <th>Artist</th>\n",
              "      <th>Song</th>\n",
              "      <th>Genre</th>\n",
              "      <th>Language</th>\n",
              "      <th>Lyrics</th>\n",
              "    </tr>\n",
              "  </thead>\n",
              "  <tbody>\n",
              "    <tr>\n",
              "      <th>0</th>\n",
              "      <td>12 stones</td>\n",
              "      <td>world so cold</td>\n",
              "      <td>Rock</td>\n",
              "      <td>en</td>\n",
              "      <td>It starts with pain, followed by hate Fueled b...</td>\n",
              "    </tr>\n",
              "    <tr>\n",
              "      <th>1</th>\n",
              "      <td>12 stones</td>\n",
              "      <td>broken</td>\n",
              "      <td>Rock</td>\n",
              "      <td>en</td>\n",
              "      <td>Freedom! Alone again again alone Patiently wai...</td>\n",
              "    </tr>\n",
              "    <tr>\n",
              "      <th>2</th>\n",
              "      <td>12 stones</td>\n",
              "      <td>3 leaf loser</td>\n",
              "      <td>Rock</td>\n",
              "      <td>en</td>\n",
              "      <td>Biting the hand that feeds you, lying to the v...</td>\n",
              "    </tr>\n",
              "    <tr>\n",
              "      <th>3</th>\n",
              "      <td>12 stones</td>\n",
              "      <td>anthem for the underdog</td>\n",
              "      <td>Rock</td>\n",
              "      <td>en</td>\n",
              "      <td>You say you know just who I am But you can't i...</td>\n",
              "    </tr>\n",
              "    <tr>\n",
              "      <th>4</th>\n",
              "      <td>12 stones</td>\n",
              "      <td>adrenaline</td>\n",
              "      <td>Rock</td>\n",
              "      <td>en</td>\n",
              "      <td>My heart is beating faster can't control these...</td>\n",
              "    </tr>\n",
              "    <tr>\n",
              "      <th>...</th>\n",
              "      <td>...</td>\n",
              "      <td>...</td>\n",
              "      <td>...</td>\n",
              "      <td>...</td>\n",
              "      <td>...</td>\n",
              "    </tr>\n",
              "    <tr>\n",
              "      <th>290178</th>\n",
              "      <td>bobby womack</td>\n",
              "      <td>i wish he didn t trust me so much</td>\n",
              "      <td>R&amp;B</td>\n",
              "      <td>en</td>\n",
              "      <td>I'm the best friend he's got I'd give him the ...</td>\n",
              "    </tr>\n",
              "    <tr>\n",
              "      <th>290179</th>\n",
              "      <td>bad boys blue</td>\n",
              "      <td>i totally miss you</td>\n",
              "      <td>Pop</td>\n",
              "      <td>en</td>\n",
              "      <td>Bad Boys Blue \"I Totally Miss You\" I did you w...</td>\n",
              "    </tr>\n",
              "    <tr>\n",
              "      <th>290180</th>\n",
              "      <td>celine dion</td>\n",
              "      <td>sorry for love</td>\n",
              "      <td>Pop</td>\n",
              "      <td>en</td>\n",
              "      <td>Forgive me for the things That I never said to...</td>\n",
              "    </tr>\n",
              "    <tr>\n",
              "      <th>290181</th>\n",
              "      <td>dan bern</td>\n",
              "      <td>cure for aids</td>\n",
              "      <td>Indie</td>\n",
              "      <td>en</td>\n",
              "      <td>The day they found a cure for AIDS The day the...</td>\n",
              "    </tr>\n",
              "    <tr>\n",
              "      <th>290182</th>\n",
              "      <td>crawdad republic</td>\n",
              "      <td>iceberg meadows</td>\n",
              "      <td>Pop</td>\n",
              "      <td>en</td>\n",
              "      <td>Fourth of July has come, it's custom that we g...</td>\n",
              "    </tr>\n",
              "  </tbody>\n",
              "</table>\n",
              "<p>290183 rows × 5 columns</p>\n",
              "</div>\n",
              "      <button class=\"colab-df-convert\" onclick=\"convertToInteractive('df-ccb3888d-a696-4ddc-8e89-83a57f4fe9ba')\"\n",
              "              title=\"Convert this dataframe to an interactive table.\"\n",
              "              style=\"display:none;\">\n",
              "        \n",
              "  <svg xmlns=\"http://www.w3.org/2000/svg\" height=\"24px\"viewBox=\"0 0 24 24\"\n",
              "       width=\"24px\">\n",
              "    <path d=\"M0 0h24v24H0V0z\" fill=\"none\"/>\n",
              "    <path d=\"M18.56 5.44l.94 2.06.94-2.06 2.06-.94-2.06-.94-.94-2.06-.94 2.06-2.06.94zm-11 1L8.5 8.5l.94-2.06 2.06-.94-2.06-.94L8.5 2.5l-.94 2.06-2.06.94zm10 10l.94 2.06.94-2.06 2.06-.94-2.06-.94-.94-2.06-.94 2.06-2.06.94z\"/><path d=\"M17.41 7.96l-1.37-1.37c-.4-.4-.92-.59-1.43-.59-.52 0-1.04.2-1.43.59L10.3 9.45l-7.72 7.72c-.78.78-.78 2.05 0 2.83L4 21.41c.39.39.9.59 1.41.59.51 0 1.02-.2 1.41-.59l7.78-7.78 2.81-2.81c.8-.78.8-2.07 0-2.86zM5.41 20L4 18.59l7.72-7.72 1.47 1.35L5.41 20z\"/>\n",
              "  </svg>\n",
              "      </button>\n",
              "      \n",
              "  <style>\n",
              "    .colab-df-container {\n",
              "      display:flex;\n",
              "      flex-wrap:wrap;\n",
              "      gap: 12px;\n",
              "    }\n",
              "\n",
              "    .colab-df-convert {\n",
              "      background-color: #E8F0FE;\n",
              "      border: none;\n",
              "      border-radius: 50%;\n",
              "      cursor: pointer;\n",
              "      display: none;\n",
              "      fill: #1967D2;\n",
              "      height: 32px;\n",
              "      padding: 0 0 0 0;\n",
              "      width: 32px;\n",
              "    }\n",
              "\n",
              "    .colab-df-convert:hover {\n",
              "      background-color: #E2EBFA;\n",
              "      box-shadow: 0px 1px 2px rgba(60, 64, 67, 0.3), 0px 1px 3px 1px rgba(60, 64, 67, 0.15);\n",
              "      fill: #174EA6;\n",
              "    }\n",
              "\n",
              "    [theme=dark] .colab-df-convert {\n",
              "      background-color: #3B4455;\n",
              "      fill: #D2E3FC;\n",
              "    }\n",
              "\n",
              "    [theme=dark] .colab-df-convert:hover {\n",
              "      background-color: #434B5C;\n",
              "      box-shadow: 0px 1px 3px 1px rgba(0, 0, 0, 0.15);\n",
              "      filter: drop-shadow(0px 1px 2px rgba(0, 0, 0, 0.3));\n",
              "      fill: #FFFFFF;\n",
              "    }\n",
              "  </style>\n",
              "\n",
              "      <script>\n",
              "        const buttonEl =\n",
              "          document.querySelector('#df-ccb3888d-a696-4ddc-8e89-83a57f4fe9ba button.colab-df-convert');\n",
              "        buttonEl.style.display =\n",
              "          google.colab.kernel.accessAllowed ? 'block' : 'none';\n",
              "\n",
              "        async function convertToInteractive(key) {\n",
              "          const element = document.querySelector('#df-ccb3888d-a696-4ddc-8e89-83a57f4fe9ba');\n",
              "          const dataTable =\n",
              "            await google.colab.kernel.invokeFunction('convertToInteractive',\n",
              "                                                     [key], {});\n",
              "          if (!dataTable) return;\n",
              "\n",
              "          const docLinkHtml = 'Like what you see? Visit the ' +\n",
              "            '<a target=\"_blank\" href=https://colab.research.google.com/notebooks/data_table.ipynb>data table notebook</a>'\n",
              "            + ' to learn more about interactive tables.';\n",
              "          element.innerHTML = '';\n",
              "          dataTable['output_type'] = 'display_data';\n",
              "          await google.colab.output.renderOutput(dataTable, element);\n",
              "          const docLink = document.createElement('div');\n",
              "          docLink.innerHTML = docLinkHtml;\n",
              "          element.appendChild(docLink);\n",
              "        }\n",
              "      </script>\n",
              "    </div>\n",
              "  </div>\n",
              "  "
            ]
          },
          "metadata": {},
          "execution_count": 12
        }
      ],
      "source": [
        "df"
      ],
      "id": "f6aa038f"
    },
    {
      "cell_type": "code",
      "execution_count": 13,
      "metadata": {
        "id": "80e9d1db"
      },
      "outputs": [],
      "source": [
        "df.dropna(inplace=True)"
      ],
      "id": "80e9d1db"
    },
    {
      "cell_type": "code",
      "execution_count": 14,
      "metadata": {
        "colab": {
          "base_uri": "https://localhost:8080/"
        },
        "id": "0d66a9ea",
        "outputId": "14207e1e-225e-4b71-8355-65a85fd202ad"
      },
      "outputs": [
        {
          "output_type": "execute_result",
          "data": {
            "text/plain": [
              "(290143, 5)"
            ]
          },
          "metadata": {},
          "execution_count": 14
        }
      ],
      "source": [
        "df.shape"
      ],
      "id": "0d66a9ea"
    },
    {
      "cell_type": "code",
      "source": [
        "def repeated_char(text):\n",
        "    return re.sub(r'(.)\\1+', r'\\1', text)"
      ],
      "metadata": {
        "id": "F0SoVUfLA1TN"
      },
      "id": "F0SoVUfLA1TN",
      "execution_count": 15,
      "outputs": []
    },
    {
      "cell_type": "code",
      "source": [
        "df[\"Lyrics\"] = df[\"Lyrics\"].apply(lambda x: repeated_char(x))\n",
        "df[\"Lyrics\"].tail()\n"
      ],
      "metadata": {
        "colab": {
          "base_uri": "https://localhost:8080/"
        },
        "id": "amzwO2yZBiOb",
        "outputId": "ed751aec-13e1-41d0-d40c-aecce3cac0d9"
      },
      "id": "amzwO2yZBiOb",
      "execution_count": 16,
      "outputs": [
        {
          "output_type": "execute_result",
          "data": {
            "text/plain": [
              "290178    I'm the best friend he's got I'd give him the ...\n",
              "290179    Bad Boys Blue \"I Totaly Mis You\" I did you wro...\n",
              "290180    Forgive me for the things That I never said to...\n",
              "290181    The day they found a cure for AIDS The day the...\n",
              "290182    Fourth of July has come, it's custom that we g...\n",
              "Name: Lyrics, dtype: object"
            ]
          },
          "metadata": {},
          "execution_count": 16
        }
      ]
    },
    {
      "cell_type": "code",
      "execution_count": 17,
      "metadata": {
        "id": "5c725f47"
      },
      "outputs": [],
      "source": [
        "dictionary_length = 1000\n",
        "input_length = 100\n",
        "\n",
        "tokenizer = Tokenizer(num_words=dictionary_length)\n",
        "tokenizer.fit_on_texts(df.Lyrics.values)\n",
        "post_seq = tokenizer.texts_to_sequences(df.Lyrics.values)\n",
        "post_seq_padded= sequence.pad_sequences(post_seq, maxlen=input_length)"
      ],
      "id": "5c725f47"
    },
    {
      "cell_type": "code",
      "execution_count": 18,
      "metadata": {
        "colab": {
          "base_uri": "https://localhost:8080/"
        },
        "id": "5b6c75de",
        "outputId": "bd7348e5-01b2-46c9-b385-582b6306bbf9"
      },
      "outputs": [
        {
          "output_type": "execute_result",
          "data": {
            "text/plain": [
              "array([[ 68,  23,  79, ..., 107,  23, 324],\n",
              "       [ 25,  13,  96, ..., 431, 431, 431],\n",
              "       [172,  34,  87, ...,  65,   3,   1],\n",
              "       ...,\n",
              "       [ 72,  71,   6, ..., 584,  19,  21],\n",
              "       [  6,   1, 101, ..., 315,   6,  19],\n",
              "       [ 62, 168,  19, ..., 182, 120, 148]], dtype=int32)"
            ]
          },
          "metadata": {},
          "execution_count": 18
        }
      ],
      "source": [
        "post_seq_padded"
      ],
      "id": "5b6c75de"
    },
    {
      "cell_type": "code",
      "execution_count": 19,
      "metadata": {
        "colab": {
          "base_uri": "https://localhost:8080/"
        },
        "id": "6393ae6e",
        "outputId": "7eaf8ea5-8325-4ade-e8e7-77f36d3cbe8a"
      },
      "outputs": [
        {
          "output_type": "execute_result",
          "data": {
            "text/plain": [
              "Rock          121390\n",
              "Pop           108693\n",
              "Metal          20286\n",
              "Jazz           13545\n",
              "Folk            8644\n",
              "Indie           8449\n",
              "R&B             2793\n",
              "Hip-Hop         2240\n",
              "Electronic      2213\n",
              "Country         1890\n",
              "Name: Genre, dtype: int64"
            ]
          },
          "metadata": {},
          "execution_count": 19
        }
      ],
      "source": [
        "df['Genre'].value_counts()"
      ],
      "id": "6393ae6e"
    },
    {
      "cell_type": "code",
      "execution_count": 20,
      "metadata": {
        "colab": {
          "base_uri": "https://localhost:8080/"
        },
        "id": "b003cce6",
        "outputId": "e6392dba-8b82-45a8-ce62-8b080550f91f"
      },
      "outputs": [
        {
          "output_type": "stream",
          "name": "stdout",
          "text": [
            "Requirement already satisfied: imbalanced-learn in /usr/local/lib/python3.7/dist-packages (0.8.1)\n",
            "Collecting imbalanced-learn\n",
            "  Downloading imbalanced_learn-0.9.0-py3-none-any.whl (199 kB)\n",
            "\u001b[K     |████████████████████████████████| 199 kB 4.9 MB/s \n",
            "\u001b[?25hRequirement already satisfied: threadpoolctl>=2.0.0 in /usr/local/lib/python3.7/dist-packages (from imbalanced-learn) (3.1.0)\n",
            "Requirement already satisfied: joblib>=0.11 in /usr/local/lib/python3.7/dist-packages (from imbalanced-learn) (1.1.0)\n",
            "Requirement already satisfied: numpy>=1.14.6 in /usr/local/lib/python3.7/dist-packages (from imbalanced-learn) (1.21.6)\n",
            "Requirement already satisfied: scikit-learn>=1.0.1 in /usr/local/lib/python3.7/dist-packages (from imbalanced-learn) (1.0.2)\n",
            "Requirement already satisfied: scipy>=1.1.0 in /usr/local/lib/python3.7/dist-packages (from imbalanced-learn) (1.4.1)\n",
            "Installing collected packages: imbalanced-learn\n",
            "  Attempting uninstall: imbalanced-learn\n",
            "    Found existing installation: imbalanced-learn 0.8.1\n",
            "    Uninstalling imbalanced-learn-0.8.1:\n",
            "      Successfully uninstalled imbalanced-learn-0.8.1\n",
            "Successfully installed imbalanced-learn-0.9.0\n"
          ]
        }
      ],
      "source": [
        "!pip install -U imbalanced-learn\n"
      ],
      "id": "b003cce6"
    },
    {
      "cell_type": "code",
      "execution_count": 21,
      "metadata": {
        "id": "34413c40"
      },
      "outputs": [],
      "source": [
        "X = post_seq_padded\n",
        "y = df['Genre'].values"
      ],
      "id": "34413c40"
    },
    {
      "cell_type": "code",
      "execution_count": 22,
      "metadata": {
        "id": "e6b47e28"
      },
      "outputs": [],
      "source": [
        "from imblearn.over_sampling import RandomOverSampler\n",
        "\n",
        "over = RandomOverSampler(sampling_strategy={'Metal':40000,'Indie':20000,'R&B':5000,\n",
        "                    'Folk':20000,'Electronic':25000,'Jazz':26000,'Hip-Hop':5000,'Country':5000})\n",
        "X, y = over.fit_resample(X, y)\n",
        "#under = RandomUnderSampler(sampling_strategy=u)\n",
        "#steps = [('over', over), ('under', under), ('model', model)]\n",
        "#pipeline = Pipeline(steps=steps)"
      ],
      "id": "e6b47e28"
    },
    {
      "cell_type": "code",
      "execution_count": 23,
      "metadata": {
        "colab": {
          "base_uri": "https://localhost:8080/"
        },
        "id": "3f5770a3",
        "outputId": "fda671a8-b3d1-4172-9c68-2058184d3e3c"
      },
      "outputs": [
        {
          "output_type": "execute_result",
          "data": {
            "text/plain": [
              "(376083, 100)"
            ]
          },
          "metadata": {},
          "execution_count": 23
        }
      ],
      "source": [
        "X.shape"
      ],
      "id": "3f5770a3"
    },
    {
      "cell_type": "code",
      "execution_count": 24,
      "metadata": {
        "id": "c14bd425"
      },
      "outputs": [],
      "source": [
        "from sklearn.preprocessing import LabelBinarizer\n",
        "label_as_binary = LabelBinarizer()\n",
        "y_labels = label_as_binary.fit_transform(y)"
      ],
      "id": "c14bd425"
    },
    {
      "cell_type": "code",
      "execution_count": 25,
      "metadata": {
        "id": "b8d719b0"
      },
      "outputs": [],
      "source": [
        "#Splitting data into train, val and test\n",
        "X_train,X_val,y_train,y_val = train_test_split(X,y_labels, test_size=0.3, random_state=23)\n",
        "X_val,X_test,y_val,y_test = train_test_split(X_val,y_val, test_size=0.5, random_state=23)#0.4*50%=20%"
      ],
      "id": "b8d719b0"
    },
    {
      "cell_type": "code",
      "execution_count": 36,
      "metadata": {
        "colab": {
          "base_uri": "https://localhost:8080/"
        },
        "id": "62227174",
        "outputId": "6b41bc32-dc26-478b-ea9b-f32241f020af"
      },
      "outputs": [
        {
          "output_type": "stream",
          "name": "stdout",
          "text": [
            "(263258, 100)\n",
            "(56412, 100)\n",
            "(56413, 100)\n"
          ]
        }
      ],
      "source": [
        "#printing shapes of train data\n",
        "print(X_train.shape)\n",
        "print(X_val.shape)\n",
        "print(X_test.shape)"
      ],
      "id": "62227174"
    },
    {
      "cell_type": "code",
      "execution_count": 27,
      "metadata": {
        "id": "c49ab926"
      },
      "outputs": [],
      "source": [
        "#parameters for the model\n",
        "batch_size = 256\n",
        "state_size = 8\n",
        "num_classes = 10\n",
        "embedding_size=50 "
      ],
      "id": "c49ab926"
    },
    {
      "cell_type": "markdown",
      "source": [
        "**MODELS**"
      ],
      "metadata": {
        "id": "KACp4EPlJF5p"
      },
      "id": "KACp4EPlJF5p"
    },
    {
      "cell_type": "markdown",
      "source": [
        " **SIMPLE RNN MODEL**"
      ],
      "metadata": {
        "id": "Bm8jTGYPJKKd"
      },
      "id": "Bm8jTGYPJKKd"
    },
    {
      "cell_type": "code",
      "execution_count": 34,
      "metadata": {
        "colab": {
          "base_uri": "https://localhost:8080/"
        },
        "id": "3088c682",
        "outputId": "ce55c35f-2c68-4640-a5d4-dff8452feff3"
      },
      "outputs": [
        {
          "output_type": "stream",
          "name": "stdout",
          "text": [
            "Model: \"sequential_1\"\n",
            "_________________________________________________________________\n",
            " Layer (type)                Output Shape              Param #   \n",
            "=================================================================\n",
            " embedding_1 (Embedding)     (None, 100, 50)           50000     \n",
            "                                                                 \n",
            " dense_3 (Dense)             (None, 100, 128)          6528      \n",
            "                                                                 \n",
            " dropout_1 (Dropout)         (None, 100, 128)          0         \n",
            "                                                                 \n",
            " dense_4 (Dense)             (None, 100, 64)           8256      \n",
            "                                                                 \n",
            " bidirectional_1 (Bidirectio  (None, 16)               1168      \n",
            " nal)                                                            \n",
            "                                                                 \n",
            " dense_5 (Dense)             (None, 10)                170       \n",
            "                                                                 \n",
            "=================================================================\n",
            "Total params: 66,122\n",
            "Trainable params: 66,122\n",
            "Non-trainable params: 0\n",
            "_________________________________________________________________\n",
            "Epoch 1/10\n",
            "1029/1029 [==============================] - 189s 181ms/step - loss: 1.7755 - auc: 0.8072 - val_loss: 1.7531 - val_auc: 0.8134\n",
            "Epoch 2/10\n",
            "1029/1029 [==============================] - 186s 181ms/step - loss: 1.7000 - auc: 0.8270 - val_loss: 1.6781 - val_auc: 0.8331\n",
            "Epoch 3/10\n",
            "1029/1029 [==============================] - 187s 181ms/step - loss: 1.6931 - auc: 0.8291 - val_loss: 1.6858 - val_auc: 0.8315\n",
            "Epoch 4/10\n",
            "1029/1029 [==============================] - 188s 182ms/step - loss: 1.6927 - auc: 0.8290 - val_loss: 1.6936 - val_auc: 0.8295\n",
            "Epoch 5/10\n",
            "1029/1029 [==============================] - 186s 181ms/step - loss: 1.7005 - auc: 0.8275 - val_loss: 1.6887 - val_auc: 0.8314\n",
            "Epoch 6/10\n",
            "1029/1029 [==============================] - 188s 182ms/step - loss: 1.6814 - auc: 0.8321 - val_loss: 1.6985 - val_auc: 0.8286\n",
            "Epoch 7/10\n",
            "1029/1029 [==============================] - 187s 181ms/step - loss: 1.7007 - auc: 0.8275 - val_loss: 1.7227 - val_auc: 0.8227\n",
            "Epoch 8/10\n",
            "1029/1029 [==============================] - 186s 181ms/step - loss: 1.6911 - auc: 0.8299 - val_loss: 1.6787 - val_auc: 0.8332\n",
            "Epoch 9/10\n",
            "1029/1029 [==============================] - 187s 181ms/step - loss: 1.6877 - auc: 0.8307 - val_loss: 1.6793 - val_auc: 0.8304\n",
            "Epoch 10/10\n",
            "1029/1029 [==============================] - 186s 181ms/step - loss: 1.6718 - auc: 0.8344 - val_loss: 1.6778 - val_auc: 0.8331\n"
          ]
        }
      ],
      "source": [
        "#Simple RNN model\n",
        "\n",
        "SimpleRNN_model = tf.keras.Sequential()\n",
        "SimpleRNN_model.add(Embedding(dictionary_length,\n",
        "                    embedding_size,\n",
        "                    input_length=input_length))\n",
        "SimpleRNN_model.add(Dense(128,activation=\"relu\"))\n",
        "SimpleRNN_model.add(Dropout(0.5))\n",
        "SimpleRNN_model.add(Dense(64,activation=\"relu\"))\n",
        "#SimpleRNN_model.add(Dropout(0.5))\n",
        "#SimpleRNN_model.add(Bidirectional(layers.SimpleRNN(state_size, return_sequences=True)))\n",
        "SimpleRNN_model.add(Bidirectional(layers.SimpleRNN(state_size, return_sequences=False)))\n",
        "SimpleRNN_model.add(Dense(num_classes, activation='softmax'))\n",
        "\n",
        "SimpleRNN_model.summary()\n",
        "\n",
        "#Compiling Simple RNN model\n",
        "SimpleRNN_model.compile(loss=\"categorical_crossentropy\", \n",
        "                   optimizer='adam', \n",
        "                   metrics=['AUC'])\n",
        "\n",
        "#Fit simple RNN model\n",
        "hist_SimpleRNN = SimpleRNN_model.fit(X_train, y_train, \n",
        "           batch_size=batch_size,\n",
        "           epochs=10, verbose=1,validation_data=(X_val, y_val))"
      ],
      "id": "3088c682"
    },
    {
      "cell_type": "code",
      "source": [
        "# Saving Simple_RNN model\n",
        "SimpleRNN_model.save('part_1/Model_1.hdf5')"
      ],
      "metadata": {
        "id": "laM_U3Jz3Zj4"
      },
      "id": "laM_U3Jz3Zj4",
      "execution_count": 32,
      "outputs": []
    },
    {
      "cell_type": "code",
      "execution_count": 33,
      "metadata": {
        "id": "d50e6b0d",
        "colab": {
          "base_uri": "https://localhost:8080/"
        },
        "outputId": "ce64f8e7-4e52-44fc-ac52-08cdefea4465"
      },
      "outputs": [
        {
          "output_type": "stream",
          "name": "stdout",
          "text": [
            "1763/1763 [==============================] - 30s 17ms/step - loss: 1.5552 - auc: 0.8593\n"
          ]
        }
      ],
      "source": [
        "#evaluating simple RNN model on test dataset\n",
        "score_SimpleRNN = SimpleRNN_model.evaluate(X_test, y_test, verbose=1)"
      ],
      "id": "d50e6b0d"
    },
    {
      "cell_type": "code",
      "execution_count": 34,
      "metadata": {
        "id": "2040d56c",
        "colab": {
          "base_uri": "https://localhost:8080/",
          "height": 312
        },
        "outputId": "37c0fc26-26f9-4500-cb9b-0ab65fc6eba2"
      },
      "outputs": [
        {
          "output_type": "execute_result",
          "data": {
            "text/plain": [
              "<matplotlib.legend.Legend at 0x7fb9c40d3050>"
            ]
          },
          "metadata": {},
          "execution_count": 34
        },
        {
          "output_type": "display_data",
          "data": {
            "text/plain": [
              "<Figure size 432x288 with 1 Axes>"
            ],
            "image/png": "[encoded data removed]"
          },
          "metadata": {
            "needs_background": "light"
          }
        }
      ],
      "source": [
        "#Training and validation accuracy graph for simple RNN\n",
        "plt.plot(hist_SimpleRNN.history['auc'],label=\"Training Auc\")\n",
        "plt.plot(hist_SimpleRNN.history['val_auc'],label=\"Validation Auc\")\n",
        "plt.title('Training and validation accuracy for simple RNN')\n",
        "plt.xlabel('Epochs')\n",
        "plt.ylabel('auc')\n",
        "plt.legend()"
      ],
      "id": "2040d56c"
    },
    {
      "cell_type": "code",
      "execution_count": 35,
      "metadata": {
        "id": "998da895",
        "colab": {
          "base_uri": "https://localhost:8080/",
          "height": 312
        },
        "outputId": "0be789a0-2539-43a9-b067-ef1b6baa8ba9"
      },
      "outputs": [
        {
          "output_type": "execute_result",
          "data": {
            "text/plain": [
              "<matplotlib.legend.Legend at 0x7fb9c410ba90>"
            ]
          },
          "metadata": {},
          "execution_count": 35
        },
        {
          "output_type": "display_data",
          "data": {
            "text/plain": [
              "<Figure size 432x288 with 1 Axes>"
            ],
            "image/png": "[encoded data removed]"
          },
          "metadata": {
            "needs_background": "light"
          }
        }
      ],
      "source": [
        "#Training and validation loss plot for simple RNN\n",
        "\n",
        "plt.plot(hist_SimpleRNN.history['loss'],label=\"Training loss\")\n",
        "plt.plot(hist_SimpleRNN.history['val_loss'],label=\"Validation loss\")\n",
        "plt.title('Training and validation loss for SIMPLE RNN')\n",
        "plt.xlabel('Epochs')\n",
        "plt.ylabel('loss')\n",
        "plt.legend()"
      ],
      "id": "998da895"
    },
    {
      "cell_type": "markdown",
      "source": [
        "**SINGLE LAYER LSTM MODEL**"
      ],
      "metadata": {
        "id": "g-PivTchJsL9"
      },
      "id": "g-PivTchJsL9"
    },
    {
      "cell_type": "code",
      "execution_count": 36,
      "metadata": {
        "id": "afe3ebd8",
        "colab": {
          "base_uri": "https://localhost:8080/"
        },
        "outputId": "0a0e50e8-49f5-4049-c030-087e48a87287"
      },
      "outputs": [
        {
          "output_type": "stream",
          "name": "stdout",
          "text": [
            "Model: \"sequential_1\"\n",
            "_________________________________________________________________\n",
            " Layer (type)                Output Shape              Param #   \n",
            "=================================================================\n",
            " embedding_1 (Embedding)     (None, 100, 50)           50000     \n",
            "                                                                 \n",
            " bidirectional_1 (Bidirectio  (None, 128)              58880     \n",
            " nal)                                                            \n",
            "                                                                 \n",
            " dense_3 (Dense)             (None, 64)                8256      \n",
            "                                                                 \n",
            " dense_4 (Dense)             (None, 10)                650       \n",
            "                                                                 \n",
            "=================================================================\n",
            "Total params: 117,786\n",
            "Trainable params: 117,786\n",
            "Non-trainable params: 0\n",
            "_________________________________________________________________\n",
            "Epoch 1/10\n",
            "1029/1029 [==============================] - 22s 17ms/step - loss: 1.9750 - auc: 0.8165 - val_loss: 1.6619 - val_auc: 0.8373\n",
            "Epoch 2/10\n",
            "1029/1029 [==============================] - 17s 16ms/step - loss: 1.6126 - auc: 0.8502 - val_loss: 1.5721 - val_auc: 0.8592\n",
            "Epoch 3/10\n",
            "1029/1029 [==============================] - 17s 16ms/step - loss: 1.5534 - auc: 0.8621 - val_loss: 1.5263 - val_auc: 0.8672\n",
            "Epoch 4/10\n",
            "1029/1029 [==============================] - 16s 16ms/step - loss: 1.5199 - auc: 0.8685 - val_loss: 1.5091 - val_auc: 0.8706\n",
            "Epoch 5/10\n",
            "1029/1029 [==============================] - 16s 16ms/step - loss: 1.4959 - auc: 0.8731 - val_loss: 1.4960 - val_auc: 0.8731\n",
            "Epoch 6/10\n",
            "1029/1029 [==============================] - 17s 16ms/step - loss: 1.4773 - auc: 0.8767 - val_loss: 1.4862 - val_auc: 0.8754\n",
            "Epoch 7/10\n",
            "1029/1029 [==============================] - 17s 17ms/step - loss: 1.4560 - auc: 0.8807 - val_loss: 1.4688 - val_auc: 0.8788\n",
            "Epoch 8/10\n",
            "1029/1029 [==============================] - 17s 17ms/step - loss: 1.4351 - auc: 0.8845 - val_loss: 1.4427 - val_auc: 0.8830\n",
            "Epoch 9/10\n",
            "1029/1029 [==============================] - 20s 20ms/step - loss: 1.4161 - auc: 0.8878 - val_loss: 1.4491 - val_auc: 0.8823\n",
            "Epoch 10/10\n",
            "1029/1029 [==============================] - 17s 17ms/step - loss: 1.3984 - auc: 0.8910 - val_loss: 1.4142 - val_auc: 0.8882\n"
          ]
        }
      ],
      "source": [
        "#single layer LSTM Model implementation\n",
        "\n",
        "LSTM_model = tf.keras.Sequential()\n",
        "embedding_layer = Embedding(dictionary_length, embedding_size, input_length=input_length)\n",
        "LSTM_model.add(embedding_layer)\n",
        "LSTM_model.add(Bidirectional(LSTM(64)))\n",
        "LSTM_model.add(Dense(64,activation='relu',kernel_regularizer=tf.keras.regularizers.l2(0.05)))\n",
        "#LSTM_model.add(Dropout(0.5))\n",
        "LSTM_model.add(Dense(num_classes, activation='softmax'))\n",
        "\n",
        "LSTM_model.summary()\n",
        "\n",
        "#Compiling single layer LSTM model\n",
        "LSTM_model.compile(loss=\"categorical_crossentropy\", \n",
        "                   optimizer='adam', \n",
        "                   metrics=['AUC'])\n",
        "\n",
        "#fitting LSTM model\n",
        "history_LSTM = LSTM_model.fit(X_train, y_train, \n",
        "           batch_size=batch_size,\n",
        "           epochs=10, verbose=1,validation_data=(X_val, y_val)) "
      ],
      "id": "afe3ebd8"
    },
    {
      "cell_type": "code",
      "execution_count": 37,
      "metadata": {
        "id": "QBm61nKE-srW"
      },
      "outputs": [],
      "source": [
        "#saving LSTM model\n",
        "LSTM_model.save('part_1/Model_2.hdf5')\n"
      ],
      "id": "QBm61nKE-srW"
    },
    {
      "cell_type": "code",
      "execution_count": 38,
      "metadata": {
        "id": "da484984",
        "colab": {
          "base_uri": "https://localhost:8080/",
          "height": 312
        },
        "outputId": "c1af9a8f-08e8-4756-e468-86c40a9e1bc4"
      },
      "outputs": [
        {
          "output_type": "execute_result",
          "data": {
            "text/plain": [
              "<matplotlib.legend.Legend at 0x7fb9d4ddf090>"
            ]
          },
          "metadata": {},
          "execution_count": 38
        },
        {
          "output_type": "display_data",
          "data": {
            "text/plain": [
              "<Figure size 432x288 with 1 Axes>"
            ],
            "image/png": "[encoded data removed]"
          },
          "metadata": {
            "needs_background": "light"
          }
        }
      ],
      "source": [
        "#Training and validation accuracy graph for single layer lstm model\n",
        "plt.plot(history_LSTM.history['auc'],label=\"Training AUC\")\n",
        "plt.plot(history_LSTM.history['val_auc'],label=\"Validation AUC\")\n",
        "plt.title('Training and validation AUC for single layer LSTM')\n",
        "plt.xlabel('Epochs')\n",
        "plt.ylabel('Auc')\n",
        "plt.legend()"
      ],
      "id": "da484984"
    },
    {
      "cell_type": "code",
      "execution_count": 40,
      "metadata": {
        "id": "465d65cd",
        "colab": {
          "base_uri": "https://localhost:8080/",
          "height": 312
        },
        "outputId": "59ef8a0a-d196-474f-99e9-62eb0c5d4fb9"
      },
      "outputs": [
        {
          "output_type": "execute_result",
          "data": {
            "text/plain": [
              "<matplotlib.legend.Legend at 0x7fb9c0159110>"
            ]
          },
          "metadata": {},
          "execution_count": 40
        },
        {
          "output_type": "display_data",
          "data": {
            "text/plain": [
              "<Figure size 432x288 with 1 Axes>"
            ],
            "image/png": "[encoded data removed]"
          },
          "metadata": {
            "needs_background": "light"
          }
        }
      ],
      "source": [
        "#Training and validation loss plot for single layer LSTM model\n",
        "\n",
        "plt.plot(history_LSTM.history['loss'],label=\"Training loss\")\n",
        "plt.plot(history_LSTM.history['val_loss'],label=\"Validation loss\")\n",
        "plt.title('Training and validation AUC')\n",
        "plt.xlabel('Epochs')\n",
        "plt.ylabel('loss')\n",
        "plt.legend()"
      ],
      "id": "465d65cd"
    },
    {
      "cell_type": "code",
      "execution_count": 41,
      "metadata": {
        "id": "eff89db3",
        "colab": {
          "base_uri": "https://localhost:8080/"
        },
        "outputId": "c2254619-0676-405b-80f7-df563d7e1bee"
      },
      "outputs": [
        {
          "output_type": "stream",
          "name": "stdout",
          "text": [
            "1763/1763 [==============================] - 11s 6ms/step - loss: 1.4087 - auc: 0.8890\n"
          ]
        }
      ],
      "source": [
        "#evaluating single layer LSTM model on test dataset\n",
        "score_LSTM = LSTM_model.evaluate(X_test, y_test, verbose=1)"
      ],
      "id": "eff89db3"
    },
    {
      "cell_type": "markdown",
      "source": [
        "**MULTI LAYER LSTM MODEL**"
      ],
      "metadata": {
        "id": "nWxv-FuOJ6qZ"
      },
      "id": "nWxv-FuOJ6qZ"
    },
    {
      "cell_type": "code",
      "execution_count": 42,
      "metadata": {
        "id": "36ed7627",
        "colab": {
          "base_uri": "https://localhost:8080/"
        },
        "outputId": "fe6af269-bc91-4dab-b2bb-1a956ad92d95"
      },
      "outputs": [
        {
          "output_type": "stream",
          "name": "stdout",
          "text": [
            "Model: \"sequential_2\"\n",
            "_________________________________________________________________\n",
            " Layer (type)                Output Shape              Param #   \n",
            "=================================================================\n",
            " embedding_2 (Embedding)     (None, 100, 50)           50000     \n",
            "                                                                 \n",
            " bidirectional_2 (Bidirectio  (None, 100, 64)          21248     \n",
            " nal)                                                            \n",
            "                                                                 \n",
            " bidirectional_3 (Bidirectio  (None, 100, 64)          24832     \n",
            " nal)                                                            \n",
            "                                                                 \n",
            " bidirectional_4 (Bidirectio  (None, 64)               24832     \n",
            " nal)                                                            \n",
            "                                                                 \n",
            " dense_5 (Dense)             (None, 32)                2080      \n",
            "                                                                 \n",
            " dense_6 (Dense)             (None, 32)                1056      \n",
            "                                                                 \n",
            " dense_7 (Dense)             (None, 10)                330       \n",
            "                                                                 \n",
            "=================================================================\n",
            "Total params: 124,378\n",
            "Trainable params: 124,378\n",
            "Non-trainable params: 0\n",
            "_________________________________________________________________\n",
            "Epoch 1/10\n",
            "1029/1029 [==============================] - 43s 35ms/step - loss: 2.1394 - auc: 0.7885 - val_loss: 1.8174 - val_auc: 0.7921\n",
            "Epoch 2/10\n",
            "1029/1029 [==============================] - 42s 41ms/step - loss: 1.8154 - auc: 0.7907 - val_loss: 1.8098 - val_auc: 0.7921\n",
            "Epoch 3/10\n",
            "1029/1029 [==============================] - 36s 35ms/step - loss: 1.8131 - auc: 0.7907 - val_loss: 1.8098 - val_auc: 0.7919\n",
            "Epoch 4/10\n",
            "1029/1029 [==============================] - 36s 35ms/step - loss: 1.8130 - auc: 0.7906 - val_loss: 1.8100 - val_auc: 0.7918\n",
            "Epoch 5/10\n",
            "1029/1029 [==============================] - 39s 38ms/step - loss: 1.8130 - auc: 0.7908 - val_loss: 1.8099 - val_auc: 0.7919\n",
            "Epoch 6/10\n",
            "1029/1029 [==============================] - 37s 36ms/step - loss: 1.8130 - auc: 0.7907 - val_loss: 1.8101 - val_auc: 0.7921\n",
            "Epoch 7/10\n",
            "1029/1029 [==============================] - 33s 32ms/step - loss: 1.8130 - auc: 0.7907 - val_loss: 1.8097 - val_auc: 0.7919\n",
            "Epoch 8/10\n",
            "1029/1029 [==============================] - 33s 32ms/step - loss: 1.8130 - auc: 0.7908 - val_loss: 1.8101 - val_auc: 0.7919\n",
            "Epoch 9/10\n",
            "1029/1029 [==============================] - 39s 38ms/step - loss: 1.8130 - auc: 0.7907 - val_loss: 1.8099 - val_auc: 0.7921\n",
            "Epoch 10/10\n",
            "1029/1029 [==============================] - 42s 40ms/step - loss: 1.8130 - auc: 0.7907 - val_loss: 1.8097 - val_auc: 0.7919\n"
          ]
        }
      ],
      "source": [
        "#Multi layer LSTM model\n",
        "MultiLSTM_model = tf.keras.Sequential()\n",
        "embedding_layer = Embedding(dictionary_length, embedding_size, input_length=input_length)\n",
        "MultiLSTM_model.add(embedding_layer)\n",
        "MultiLSTM_model.add(Bidirectional(LSTM(32,return_sequences=True)))\n",
        "MultiLSTM_model.add(Bidirectional(LSTM(32,return_sequences=True)))\n",
        "MultiLSTM_model.add(Bidirectional(LSTM(32,return_sequences=False)))\n",
        "MultiLSTM_model.add(Dense(32,activation='relu',kernel_regularizer=tf.keras.regularizers.l2(0.05)))\n",
        "MultiLSTM_model.add(Dense(32,activation='relu',kernel_regularizer=tf.keras.regularizers.l2(0.05)))\n",
        "MultiLSTM_model.add(Dense(num_classes, activation='softmax'))\n",
        "\n",
        "MultiLSTM_model.summary()\n",
        "\n",
        "#Compiling multi LSTM model\n",
        "MultiLSTM_model.compile(loss=\"categorical_crossentropy\", \n",
        "                   optimizer='adam', \n",
        "                   metrics=['AUC'])\n",
        "\n",
        "#Fitting Multi LSTM model\n",
        "history_MultiLSTM = MultiLSTM_model.fit(X_train, y_train, \n",
        "           batch_size=batch_size,\n",
        "           epochs=10, verbose=1,validation_data=(X_val, y_val)) "
      ],
      "id": "36ed7627"
    },
    {
      "cell_type": "code",
      "source": [
        "#saving Multi Layer LSTM Model\n",
        "MultiLSTM_model.save('part_1/Model_3.hdf5')\n"
      ],
      "metadata": {
        "id": "cQMIE8M963m_"
      },
      "id": "cQMIE8M963m_",
      "execution_count": 43,
      "outputs": []
    },
    {
      "cell_type": "code",
      "execution_count": 44,
      "metadata": {
        "id": "ca91e2bf",
        "colab": {
          "base_uri": "https://localhost:8080/",
          "height": 312
        },
        "outputId": "3ab1da89-f383-46f7-b367-490ef5636d5c"
      },
      "outputs": [
        {
          "output_type": "execute_result",
          "data": {
            "text/plain": [
              "<matplotlib.legend.Legend at 0x7fb9d56ee490>"
            ]
          },
          "metadata": {},
          "execution_count": 44
        },
        {
          "output_type": "display_data",
          "data": {
            "text/plain": [
              "<Figure size 432x288 with 1 Axes>"
            ],
            "image/png": "[encoded data removed]"
          },
          "metadata": {
            "needs_background": "light"
          }
        }
      ],
      "source": [
        "#Training and validation accuracy graph for Multi layer LSTM model\n",
        "plt.plot(history_MultiLSTM.history['auc'],label=\"Training AUC\")\n",
        "plt.plot(history_MultiLSTM.history['val_auc'],label=\"Validation AUC\")\n",
        "plt.title('Training and validation auc')\n",
        "plt.xlabel('Epochs')\n",
        "plt.ylabel('AUC')\n",
        "plt.legend()"
      ],
      "id": "ca91e2bf"
    },
    {
      "cell_type": "code",
      "execution_count": 45,
      "metadata": {
        "id": "3cd56f90",
        "colab": {
          "base_uri": "https://localhost:8080/",
          "height": 312
        },
        "outputId": "41fdd9de-f7cb-4394-8786-abdc77255e5c"
      },
      "outputs": [
        {
          "output_type": "execute_result",
          "data": {
            "text/plain": [
              "<matplotlib.legend.Legend at 0x7fb9d577a450>"
            ]
          },
          "metadata": {},
          "execution_count": 45
        },
        {
          "output_type": "display_data",
          "data": {
            "text/plain": [
              "<Figure size 432x288 with 1 Axes>"
            ],
            "image/png": "[encoded data removed]"
          },
          "metadata": {
            "needs_background": "light"
          }
        }
      ],
      "source": [
        "\n",
        "#Training and validation loss plot for multi layer LSTM model\n",
        "\n",
        "plt.plot(history_MultiLSTM.history['loss'],label=\"Training loss\")\n",
        "plt.plot(history_MultiLSTM.history['val_loss'],label=\"Validation loss\")\n",
        "plt.title('Training and validation auc')\n",
        "plt.xlabel('Epochs')\n",
        "plt.ylabel('loss')\n",
        "plt.legend()"
      ],
      "id": "3cd56f90"
    },
    {
      "cell_type": "code",
      "execution_count": 46,
      "metadata": {
        "id": "f8e2d645",
        "colab": {
          "base_uri": "https://localhost:8080/"
        },
        "outputId": "7f7cce1d-74cf-40d6-ca7c-fa9e635c109a"
      },
      "outputs": [
        {
          "output_type": "stream",
          "name": "stdout",
          "text": [
            "1763/1763 [==============================] - 26s 15ms/step - loss: 1.8069 - auc: 0.7919\n"
          ]
        }
      ],
      "source": [
        "#evaluating on test dataset\n",
        "score_MultiLSTM = MultiLSTM_model.evaluate(X_test, y_test, verbose=1)"
      ],
      "id": "f8e2d645"
    },
    {
      "cell_type": "code",
      "execution_count": 47,
      "metadata": {
        "id": "54d170cd",
        "colab": {
          "base_uri": "https://localhost:8080/",
          "height": 282
        },
        "outputId": "95eb52be-588d-413f-aa38-d4c539516fae"
      },
      "outputs": [
        {
          "output_type": "execute_result",
          "data": {
            "text/plain": [
              "[<matplotlib.lines.Line2D at 0x7fb9d55a6990>]"
            ]
          },
          "metadata": {},
          "execution_count": 47
        },
        {
          "output_type": "display_data",
          "data": {
            "text/plain": [
              "<Figure size 432x288 with 1 Axes>"
            ],
            "image/png": "[encoded data removed]"
          },
          "metadata": {
            "needs_background": "light"
          }
        }
      ],
      "source": [
        "plt.plot(hist_SimpleRNN.history['auc'],label=\"Training AUC SimpleRNN\")\n",
        "plt.plot(hist_SimpleRNN.history['val_auc'],label=\"Validation AUC SimpleRNN\")\n",
        "plt.plot(history_LSTM.history['auc'],label=\"Training AUC LSTM\")\n",
        "plt.plot(history_LSTM.history['val_auc'],label=\"Validation AUC LSTM\")\n",
        "plt.plot(history_MultiLSTM.history['auc'],label=\"Training AUC MultiLSTM\")\n",
        "plt.plot(history_MultiLSTM.history['val_auc'],label=\"Validation AUC MultiLSTM\")"
      ],
      "id": "54d170cd"
    },
    {
      "cell_type": "markdown",
      "source": [
        "**PRE-TRAINED EMBEDDINGS FROM TENSORFLOW HUB**\n"
      ],
      "metadata": {
        "id": "2IXS0-JTK3VA"
      },
      "id": "2IXS0-JTK3VA"
    },
    {
      "cell_type": "code",
      "source": [
        "from sklearn.preprocessing import LabelBinarizer\n",
        "target = df['Genre'].values\n",
        "label_as_binary = LabelBinarizer()\n",
        "target = label_as_binary.fit_transform(target)"
      ],
      "metadata": {
        "id": "7Hz29c27yEZM"
      },
      "id": "7Hz29c27yEZM",
      "execution_count": 48,
      "outputs": []
    },
    {
      "cell_type": "code",
      "source": [
        "df.shape"
      ],
      "metadata": {
        "colab": {
          "base_uri": "https://localhost:8080/"
        },
        "id": "EfkQIlo6z_Xc",
        "outputId": "35822f5e-780f-4a6a-c784-75a7a4c3bcdd"
      },
      "id": "EfkQIlo6z_Xc",
      "execution_count": 49,
      "outputs": [
        {
          "output_type": "execute_result",
          "data": {
            "text/plain": [
              "(290143, 5)"
            ]
          },
          "metadata": {},
          "execution_count": 49
        }
      ]
    },
    {
      "cell_type": "code",
      "source": [
        "target.shape\n"
      ],
      "metadata": {
        "colab": {
          "base_uri": "https://localhost:8080/"
        },
        "id": "j_8E5zuM0DAK",
        "outputId": "0dd66638-6a10-4e4a-c405-69fc9a3521db"
      },
      "id": "j_8E5zuM0DAK",
      "execution_count": 50,
      "outputs": [
        {
          "output_type": "execute_result",
          "data": {
            "text/plain": [
              "(290143, 10)"
            ]
          },
          "metadata": {},
          "execution_count": 50
        }
      ]
    },
    {
      "cell_type": "code",
      "execution_count": 51,
      "metadata": {
        "id": "93e7b85e"
      },
      "outputs": [],
      "source": [
        "#Splitting the data into training, validate and test\n",
        "train_ratio = 0.50\n",
        "validation_ratio = 0.30\n",
        "test_ratio = 0.20\n",
        "x_train1, x_test1, y_train1, y_test1 = train_test_split(df['Lyrics'].values, target, test_size=1 - train_ratio)\n",
        "\n",
        "x_val1, x_test1, y_val1, y_test1 = train_test_split(x_test1, y_test1, test_size=test_ratio/(test_ratio + validation_ratio)) "
      ],
      "id": "93e7b85e"
    },
    {
      "cell_type": "markdown",
      "source": [
        "**GNEWS-SWIVEL EMBEDDING**"
      ],
      "metadata": {
        "id": "cvyR5uxLLafa"
      },
      "id": "cvyR5uxLLafa"
    },
    {
      "cell_type": "code",
      "execution_count": 52,
      "metadata": {
        "id": "38a8dfda",
        "colab": {
          "base_uri": "https://localhost:8080/"
        },
        "outputId": "72d4d858-d20a-45de-876f-e52cdbe091e9"
      },
      "outputs": [
        {
          "output_type": "stream",
          "name": "stdout",
          "text": [
            "Model: \"sequential_3\"\n",
            "_________________________________________________________________\n",
            " Layer (type)                Output Shape              Param #   \n",
            "=================================================================\n",
            " keras_layer (KerasLayer)    (None, 50)                48190600  \n",
            "                                                                 \n",
            " dense_8 (Dense)             (None, 16)                816       \n",
            "                                                                 \n",
            " dropout_1 (Dropout)         (None, 16)                0         \n",
            "                                                                 \n",
            " dense_9 (Dense)             (None, 10)                170       \n",
            "                                                                 \n",
            "=================================================================\n",
            "Total params: 48,191,586\n",
            "Trainable params: 986\n",
            "Non-trainable params: 48,190,600\n",
            "_________________________________________________________________\n",
            "Epoch 1/10\n",
            "567/567 [==============================] - 10s 16ms/step - loss: 1.5372 - auc: 0.8649 - val_loss: 1.3520 - val_auc: 0.8940\n",
            "Epoch 2/10\n",
            "567/567 [==============================] - 9s 16ms/step - loss: 1.3736 - auc: 0.8898 - val_loss: 1.3058 - val_auc: 0.9013\n",
            "Epoch 3/10\n",
            "567/567 [==============================] - 9s 16ms/step - loss: 1.3418 - auc: 0.8947 - val_loss: 1.2880 - val_auc: 0.9046\n",
            "Epoch 4/10\n",
            "567/567 [==============================] - 9s 16ms/step - loss: 1.3232 - auc: 0.8979 - val_loss: 1.2768 - val_auc: 0.9063\n",
            "Epoch 5/10\n",
            "567/567 [==============================] - 9s 16ms/step - loss: 1.3120 - auc: 0.9000 - val_loss: 1.2722 - val_auc: 0.9071\n",
            "Epoch 6/10\n",
            "567/567 [==============================] - 9s 16ms/step - loss: 1.3040 - auc: 0.9012 - val_loss: 1.2654 - val_auc: 0.9078\n",
            "Epoch 7/10\n",
            "567/567 [==============================] - 9s 16ms/step - loss: 1.2992 - auc: 0.9021 - val_loss: 1.2632 - val_auc: 0.9084\n",
            "Epoch 8/10\n",
            "567/567 [==============================] - 10s 18ms/step - loss: 1.2923 - auc: 0.9032 - val_loss: 1.2577 - val_auc: 0.9089\n",
            "Epoch 9/10\n",
            "567/567 [==============================] - 13s 23ms/step - loss: 1.2884 - auc: 0.9038 - val_loss: 1.2575 - val_auc: 0.9091\n",
            "Epoch 10/10\n",
            "567/567 [==============================] - 12s 21ms/step - loss: 1.2843 - auc: 0.9045 - val_loss: 1.2538 - val_auc: 0.9096\n",
            "\n",
            " => Evaluating the model on test data\n",
            "227/227 [==============================] - 3s 14ms/step - loss: 1.2520 - auc: 0.9098\n",
            "Model accuracy on test data: 90.98% \n"
          ]
        }
      ],
      "source": [
        "#Adding the Pre trained word embedding layer to the model\n",
        "import tensorflow_hub as hub\n",
        "\n",
        "\n",
        "hub_layer = hub.KerasLayer(\"https://tfhub.dev/google/nnlm-en-dim50/2\",input_shape=[], dtype=tf.string)\n",
        "pre_trained_model = Sequential()\n",
        "pre_trained_model.add(hub_layer)\n",
        "pre_trained_model.add(tf.keras.layers.Dense(16, activation='relu'))\n",
        "pre_trained_model.add(Dropout(0.3))\n",
        "pre_trained_model.add(tf.keras.layers.Dense(10,activation='softmax'))\n",
        "\n",
        "pre_trained_model.summary()\n",
        "\n",
        "\n",
        "#Compile the model with required optimizer and loss function\n",
        "pre_trained_model.compile(optimizer='adam',\n",
        "              loss=\"categorical_crossentropy\",\n",
        "              metrics=['AUC'])\n",
        "\n",
        "#Model is fitted to Training data and is validated with validation data\n",
        "hist_pre_trained = pre_trained_model.fit(x_train1, y_train1,\n",
        "          batch_size=256,\n",
        "          epochs=10,\n",
        "          validation_data=(x_val1, y_val1))\n",
        "\n",
        "#Testing the accuracy of model using the test data.\n",
        "print('\\n => Evaluating the model on test data')\n",
        "pre_trained_results = pre_trained_model.evaluate(x_test1, y_test1, batch_size=256)\n",
        "test_loss, pre_trained_model_test_acc = pre_trained_results\n",
        "print(\"Model accuracy on test data: {}% \".format( round(pre_trained_model_test_acc*100,2)))\n"
      ],
      "id": "38a8dfda"
    },
    {
      "cell_type": "code",
      "source": [
        "auc_pre_trained_model_test_acc = round(pre_trained_model_test_acc*100,2)"
      ],
      "metadata": {
        "id": "9TtEYXRvjvCw"
      },
      "id": "9TtEYXRvjvCw",
      "execution_count": 53,
      "outputs": []
    },
    {
      "cell_type": "code",
      "source": [
        "#Saving pre_trained_model\n",
        "pre_trained_model.save('/content/drive/MyDrive/Deep Learning/part1/Model_4.hdf5')\n"
      ],
      "metadata": {
        "id": "pFCWvxebH6Zi"
      },
      "id": "pFCWvxebH6Zi",
      "execution_count": 54,
      "outputs": []
    },
    {
      "cell_type": "code",
      "execution_count": 55,
      "metadata": {
        "id": "291a6adc",
        "colab": {
          "base_uri": "https://localhost:8080/",
          "height": 312
        },
        "outputId": "6bbb5a2f-d486-4aa1-bb60-e92bc047f9b6"
      },
      "outputs": [
        {
          "output_type": "execute_result",
          "data": {
            "text/plain": [
              "<matplotlib.legend.Legend at 0x7fb9d56e1710>"
            ]
          },
          "metadata": {},
          "execution_count": 55
        },
        {
          "output_type": "display_data",
          "data": {
            "text/plain": [
              "<Figure size 432x288 with 1 Axes>"
            ],
            "image/png": "[encoded data removed]"
          },
          "metadata": {
            "needs_background": "light"
          }
        }
      ],
      "source": [
        "#Training and validation accuracy graph for gnew-swivel pretrained embedding model\n",
        "plt.plot(hist_pre_trained.history['auc'],label=\"Training auc\")\n",
        "plt.plot(hist_pre_trained.history['val_auc'],label=\"Validation auc\")\n",
        "plt.title('Training and validation auc')\n",
        "plt.xlabel('Epochs')\n",
        "plt.ylabel('auc')\n",
        "plt.legend()"
      ],
      "id": "291a6adc"
    },
    {
      "cell_type": "code",
      "source": [
        "#Training and validation loss plot for gnews model\n",
        "\n",
        "plt.plot(hist_pre_trained.history['loss'],label=\"Training loss\")\n",
        "plt.plot(hist_pre_trained.history['val_loss'],label=\"Validation loss\")\n",
        "plt.title('Training and validation auc')\n",
        "plt.xlabel('Epochs')\n",
        "plt.ylabel('loss')\n",
        "plt.legend()"
      ],
      "metadata": {
        "colab": {
          "base_uri": "https://localhost:8080/",
          "height": 312
        },
        "id": "i1VlcK_maCiP",
        "outputId": "04a65ee3-c216-4b30-88d4-cbefec9b6c1e"
      },
      "id": "i1VlcK_maCiP",
      "execution_count": 56,
      "outputs": [
        {
          "output_type": "execute_result",
          "data": {
            "text/plain": [
              "<matplotlib.legend.Legend at 0x7fb9d591d310>"
            ]
          },
          "metadata": {},
          "execution_count": 56
        },
        {
          "output_type": "display_data",
          "data": {
            "text/plain": [
              "<Figure size 432x288 with 1 Axes>"
            ],
            "image/png": "[encoded data removed]"
          },
          "metadata": {
            "needs_background": "light"
          }
        }
      ]
    },
    {
      "cell_type": "markdown",
      "source": [
        "**FLY MODEL**"
      ],
      "metadata": {
        "id": "AP-cW98gMunc"
      },
      "id": "AP-cW98gMunc"
    },
    {
      "cell_type": "code",
      "source": [
        "#Pre-trained embeddings in Tensorflow hub\n",
        "\n",
        "model_fly = Sequential()\n",
        "model_fly.add(Embedding(dictionary_length,embedding_size,\n",
        "                    input_length=input_length))\n",
        "model_fly.add(GlobalAveragePooling1D()) #taking an average of all our word embeddings\n",
        "model_fly.add(Dense(200, activation='relu',kernel_regularizer=tf.keras.regularizers.l2(0.05)))\n",
        "model_fly.add(Dense(10,activation='softmax'))\n",
        "\n",
        "model_fly.summary()\n",
        "\n",
        "#Compile the model with required optimizer and loss function\n",
        "model_fly.compile(optimizer='adam',\n",
        "              loss=\"categorical_crossentropy\",\n",
        "              metrics=['AUC'])\n",
        "\n",
        "#Model is fitted to Training data and is validated with validation data\n",
        "\n",
        "hist_fly = model_fly.fit(X_train, y_train, batch_size=batch_size, epochs=10, validation_data=(X_val, y_val))\n",
        "\n",
        "#Testing the accuracy of model using the test data.\n",
        "print('\\n => Evaluating the model on test data')\n",
        "model_fly_results = model_fly.evaluate(X_test, y_test, batch_size=batch_size)\n",
        "test_loss, model_fly_test_acc = model_fly_results\n",
        "print(\"Model accuracy on test data: {}% \".format( round(model_fly_test_acc*100,2)))\n"
      ],
      "metadata": {
        "id": "wX1hK1vx5roK",
        "colab": {
          "base_uri": "https://localhost:8080/"
        },
        "outputId": "484ab26d-85d8-4cfb-ba54-cd18b45c7666"
      },
      "id": "wX1hK1vx5roK",
      "execution_count": 57,
      "outputs": [
        {
          "output_type": "stream",
          "name": "stdout",
          "text": [
            "Model: \"sequential_4\"\n",
            "_________________________________________________________________\n",
            " Layer (type)                Output Shape              Param #   \n",
            "=================================================================\n",
            " embedding_3 (Embedding)     (None, 100, 50)           50000     \n",
            "                                                                 \n",
            " global_average_pooling1d (G  (None, 50)               0         \n",
            " lobalAveragePooling1D)                                          \n",
            "                                                                 \n",
            " dense_10 (Dense)            (None, 200)               10200     \n",
            "                                                                 \n",
            " dense_11 (Dense)            (None, 10)                2010      \n",
            "                                                                 \n",
            "=================================================================\n",
            "Total params: 62,210\n",
            "Trainable params: 62,210\n",
            "Non-trainable params: 0\n",
            "_________________________________________________________________\n",
            "Epoch 1/10\n",
            "1029/1029 [==============================] - 6s 5ms/step - loss: 1.9671 - auc: 0.8058 - val_loss: 1.7249 - val_auc: 0.8238\n",
            "Epoch 2/10\n",
            "1029/1029 [==============================] - 8s 7ms/step - loss: 1.7100 - auc: 0.8259 - val_loss: 1.6965 - val_auc: 0.8290\n",
            "Epoch 3/10\n",
            "1029/1029 [==============================] - 7s 7ms/step - loss: 1.6888 - auc: 0.8304 - val_loss: 1.6768 - val_auc: 0.8336\n",
            "Epoch 4/10\n",
            "1029/1029 [==============================] - 8s 8ms/step - loss: 1.6569 - auc: 0.8406 - val_loss: 1.6300 - val_auc: 0.8494\n",
            "Epoch 5/10\n",
            "1029/1029 [==============================] - 7s 7ms/step - loss: 1.6045 - auc: 0.8540 - val_loss: 1.5924 - val_auc: 0.8562\n",
            "Epoch 6/10\n",
            "1029/1029 [==============================] - 7s 7ms/step - loss: 1.5787 - auc: 0.8586 - val_loss: 1.5772 - val_auc: 0.8586\n",
            "Epoch 7/10\n",
            "1029/1029 [==============================] - 7s 7ms/step - loss: 1.5658 - auc: 0.8607 - val_loss: 1.5659 - val_auc: 0.8604\n",
            "Epoch 8/10\n",
            "1029/1029 [==============================] - 7s 7ms/step - loss: 1.5577 - auc: 0.8620 - val_loss: 1.5692 - val_auc: 0.8598\n",
            "Epoch 9/10\n",
            "1029/1029 [==============================] - 7s 7ms/step - loss: 1.5525 - auc: 0.8628 - val_loss: 1.5581 - val_auc: 0.8614\n",
            "Epoch 10/10\n",
            "1029/1029 [==============================] - 9s 9ms/step - loss: 1.5482 - auc: 0.8635 - val_loss: 1.5522 - val_auc: 0.8628\n",
            "\n",
            " => Evaluating the model on test data\n",
            "221/221 [==============================] - 1s 4ms/step - loss: 1.5410 - auc: 0.8649\n",
            "Model accuracy on test data: 86.49% \n"
          ]
        }
      ]
    },
    {
      "cell_type": "code",
      "source": [
        "auc_model_fly_test_acc = round(model_fly_test_acc*100,2)"
      ],
      "metadata": {
        "id": "lm93hJVHj5on"
      },
      "id": "lm93hJVHj5on",
      "execution_count": 58,
      "outputs": []
    },
    {
      "cell_type": "code",
      "source": [
        "#Training and validation accuracy graph for fly pretrained embedding model\n",
        "plt.plot(hist_fly .history['auc'],label=\"Training auc\")\n",
        "plt.plot(hist_fly .history['val_auc'],label=\"Validation auc\")\n",
        "plt.title('Training and validation auc')\n",
        "plt.xlabel('Epochs')\n",
        "plt.ylabel('auc')\n",
        "plt.legend()"
      ],
      "metadata": {
        "colab": {
          "base_uri": "https://localhost:8080/",
          "height": 312
        },
        "id": "DFbt33zqakja",
        "outputId": "e7471fd2-6fb7-489a-bb8c-0b5f20d0cf0c"
      },
      "id": "DFbt33zqakja",
      "execution_count": 60,
      "outputs": [
        {
          "output_type": "execute_result",
          "data": {
            "text/plain": [
              "<matplotlib.legend.Legend at 0x7fb9d5974f90>"
            ]
          },
          "metadata": {},
          "execution_count": 60
        },
        {
          "output_type": "display_data",
          "data": {
            "text/plain": [
              "<Figure size 432x288 with 1 Axes>"
            ],
            "image/png": "[encoded data removed]"
          },
          "metadata": {
            "needs_background": "light"
          }
        }
      ]
    },
    {
      "cell_type": "code",
      "source": [
        "#Training and validation loss plot for fly model\n",
        "\n",
        "plt.plot(hist_fly .history['loss'],label=\"Training loss\")\n",
        "plt.plot(hist_fly .history['val_loss'],label=\"Validation loss\")\n",
        "plt.title('Training and validation auc')\n",
        "plt.xlabel('Epochs')\n",
        "plt.ylabel('loss')\n",
        "plt.legend()"
      ],
      "metadata": {
        "colab": {
          "base_uri": "https://localhost:8080/",
          "height": 312
        },
        "id": "QtMWrVhYayHa",
        "outputId": "3fd5ebd7-a830-44d0-e118-20ab1eafaa39"
      },
      "id": "QtMWrVhYayHa",
      "execution_count": 111,
      "outputs": [
        {
          "output_type": "execute_result",
          "data": {
            "text/plain": [
              "<matplotlib.legend.Legend at 0x7fb974e49c50>"
            ]
          },
          "metadata": {},
          "execution_count": 111
        },
        {
          "output_type": "display_data",
          "data": {
            "text/plain": [
              "<Figure size 432x288 with 1 Axes>"
            ],
            "image/png": "[encoded data removed]"
          },
          "metadata": {
            "needs_background": "light"
          }
        }
      ]
    },
    {
      "cell_type": "markdown",
      "source": [
        "**CNN FOR TEXT CLASSIFICATION**"
      ],
      "metadata": {
        "id": "1Awjt9haMFW-"
      },
      "id": "1Awjt9haMFW-"
    },
    {
      "cell_type": "code",
      "source": [
        "print(X_train.shape)\n",
        "print(y_train.shape)\n",
        "print(X_val.shape)\n",
        "print(y_val.shape)\n",
        "print(X_test.shape)\n",
        "print(y_test.shape)"
      ],
      "metadata": {
        "colab": {
          "base_uri": "https://localhost:8080/"
        },
        "id": "JPQ-LkLaun7s",
        "outputId": "f1786777-19dd-4b6d-f9d5-2ce90f23c831"
      },
      "id": "JPQ-LkLaun7s",
      "execution_count": 63,
      "outputs": [
        {
          "output_type": "stream",
          "name": "stdout",
          "text": [
            "(263258, 100)\n",
            "(263258, 10)\n",
            "(56412, 100)\n",
            "(56412, 10)\n",
            "(56413, 100)\n",
            "(56413, 10)\n"
          ]
        }
      ]
    },
    {
      "cell_type": "markdown",
      "source": [
        "**CNN KERNEL SIZE 5**"
      ],
      "metadata": {
        "id": "a_cyzDJgMegW"
      },
      "id": "a_cyzDJgMegW"
    },
    {
      "cell_type": "code",
      "source": [
        "#CNN with kernel size=5\n",
        "#CNN With Text classification with kernal size = 5\n",
        "\n",
        "CNN_model = Sequential()\n",
        "CNN_model.add(Embedding(dictionary_length,embedding_size,\n",
        "                    input_length=input_length))\n",
        "CNN_model.add(Conv1D(50,5,padding='valid',activation='relu',strides=1,kernel_regularizer=tf.keras.regularizers.l2(0.2)))\n",
        "#CNN_model.add(Dropout(0.25))\n",
        "CNN_model.add(GlobalAveragePooling1D())\n",
        "#CNN_model.add(Dropout(0.25))\n",
        "CNN_model.add(Dense(10, activation='softmax'))\n",
        "\n",
        "CNN_model.compile(optimizer='adam',\n",
        "              loss='categorical_crossentropy',\n",
        "              metrics=['AUC'])\n",
        "\n",
        "CNN_model.summary()\n",
        "\n",
        "\n",
        "#Fitting the model to the test data and validating with the validation data\n",
        "hist_cnn = CNN_model.fit(X_train, y_train, batch_size=batch_size, epochs=10, validation_data=(X_val, y_val))\n",
        "\n",
        "#Testing the accuracy of model using the test data.\n",
        "print('\\n => Evaluating the model on test data')\n",
        "CNN_Kernel5_results = CNN_model.evaluate(X_test, y_test, batch_size=batch_size)\n",
        "test_loss, cnn_kernal_5_test_acc = CNN_Kernel5_results\n",
        "print(\"Model accuracy on test data: {}% \".format( round(cnn_kernal_5_test_acc*100,2)))"
      ],
      "metadata": {
        "id": "PL9goHqE7DKm",
        "colab": {
          "base_uri": "https://localhost:8080/"
        },
        "outputId": "73fe879c-edea-4378-875f-5505fdec9735"
      },
      "id": "PL9goHqE7DKm",
      "execution_count": 64,
      "outputs": [
        {
          "output_type": "stream",
          "name": "stdout",
          "text": [
            "Model: \"sequential_5\"\n",
            "_________________________________________________________________\n",
            " Layer (type)                Output Shape              Param #   \n",
            "=================================================================\n",
            " embedding_4 (Embedding)     (None, 100, 50)           50000     \n",
            "                                                                 \n",
            " conv1d (Conv1D)             (None, 96, 50)            12550     \n",
            "                                                                 \n",
            " global_average_pooling1d_1   (None, 50)               0         \n",
            " (GlobalAveragePooling1D)                                        \n",
            "                                                                 \n",
            " dense_12 (Dense)            (None, 10)                510       \n",
            "                                                                 \n",
            "=================================================================\n",
            "Total params: 63,060\n",
            "Trainable params: 63,060\n",
            "Non-trainable params: 0\n",
            "_________________________________________________________________\n",
            "Epoch 1/10\n",
            "1029/1029 [==============================] - 15s 7ms/step - loss: 2.1191 - auc: 0.8001 - val_loss: 1.7383 - val_auc: 0.8199\n",
            "Epoch 2/10\n",
            "1029/1029 [==============================] - 9s 9ms/step - loss: 1.7210 - auc: 0.8236 - val_loss: 1.7063 - val_auc: 0.8274\n",
            "Epoch 3/10\n",
            "1029/1029 [==============================] - 7s 7ms/step - loss: 1.6969 - auc: 0.8292 - val_loss: 1.6914 - val_auc: 0.8313\n",
            "Epoch 4/10\n",
            "1029/1029 [==============================] - 8s 8ms/step - loss: 1.6790 - auc: 0.8338 - val_loss: 1.6710 - val_auc: 0.8369\n",
            "Epoch 5/10\n",
            "1029/1029 [==============================] - 6s 6ms/step - loss: 1.6539 - auc: 0.8416 - val_loss: 1.6396 - val_auc: 0.8471\n",
            "Epoch 6/10\n",
            "1029/1029 [==============================] - 6s 6ms/step - loss: 1.6164 - auc: 0.8516 - val_loss: 1.6043 - val_auc: 0.8534\n",
            "Epoch 7/10\n",
            "1029/1029 [==============================] - 6s 6ms/step - loss: 1.5938 - auc: 0.8559 - val_loss: 1.5913 - val_auc: 0.8566\n",
            "Epoch 8/10\n",
            "1029/1029 [==============================] - 6s 6ms/step - loss: 1.5820 - auc: 0.8579 - val_loss: 1.5832 - val_auc: 0.8582\n",
            "Epoch 9/10\n",
            "1029/1029 [==============================] - 6s 6ms/step - loss: 1.5745 - auc: 0.8592 - val_loss: 1.5762 - val_auc: 0.8587\n",
            "Epoch 10/10\n",
            "1029/1029 [==============================] - 8s 8ms/step - loss: 1.5695 - auc: 0.8600 - val_loss: 1.5731 - val_auc: 0.8590\n",
            "\n",
            " => Evaluating the model on test data\n",
            "221/221 [==============================] - 1s 4ms/step - loss: 1.5631 - auc: 0.8609\n",
            "Model accuracy on test data: 86.09% \n"
          ]
        }
      ]
    },
    {
      "cell_type": "code",
      "source": [
        "auc_cnn_kernal_5_test_acc = round(cnn_kernal_5_test_acc*100,2)"
      ],
      "metadata": {
        "id": "6oyBgGxRlOZu"
      },
      "id": "6oyBgGxRlOZu",
      "execution_count": 65,
      "outputs": []
    },
    {
      "cell_type": "code",
      "source": [
        "CNN_model.save('part_1_weights/Model_6.hdf5')\n"
      ],
      "metadata": {
        "id": "7qdYUgZ3IxAH"
      },
      "id": "7qdYUgZ3IxAH",
      "execution_count": 66,
      "outputs": []
    },
    {
      "cell_type": "code",
      "source": [
        "#Training and validation accuracy graph for CNN model\n",
        "plt.plot(hist_cnn.history['auc'],label=\"Training auc\")\n",
        "plt.plot(hist_cnn.history['val_auc'],label=\"Validation auc\")\n",
        "plt.title('Training and validation auc CNN with Kernel 5')\n",
        "plt.xlabel('Epochs')\n",
        "plt.ylabel('auc')\n",
        "plt.legend()"
      ],
      "metadata": {
        "colab": {
          "base_uri": "https://localhost:8080/",
          "height": 312
        },
        "id": "DLBuvzEDbf97",
        "outputId": "aedd287a-fc4e-441c-c761-c04baf785c08"
      },
      "id": "DLBuvzEDbf97",
      "execution_count": 110,
      "outputs": [
        {
          "output_type": "execute_result",
          "data": {
            "text/plain": [
              "<matplotlib.legend.Legend at 0x7fb974ed1ad0>"
            ]
          },
          "metadata": {},
          "execution_count": 110
        },
        {
          "output_type": "display_data",
          "data": {
            "text/plain": [
              "<Figure size 432x288 with 1 Axes>"
            ],
            "image/png": "[encoded data removed]"
          },
          "metadata": {
            "needs_background": "light"
          }
        }
      ]
    },
    {
      "cell_type": "code",
      "source": [
        "#Training and validation loss plot for CNN model\n",
        "\n",
        "plt.plot(hist_pre_trained.history['loss'],label=\"Training loss\")\n",
        "plt.plot(hist_pre_trained.history['val_loss'],label=\"Validation loss\")\n",
        "plt.title('Training and validation auc with kernel 5')\n",
        "plt.xlabel('Epochs')\n",
        "plt.ylabel('loss')\n",
        "plt.legend()"
      ],
      "metadata": {
        "colab": {
          "base_uri": "https://localhost:8080/",
          "height": 312
        },
        "id": "7aI7H6kcbvcp",
        "outputId": "1f762335-429d-47e9-e503-88844936d2aa"
      },
      "id": "7aI7H6kcbvcp",
      "execution_count": 109,
      "outputs": [
        {
          "output_type": "execute_result",
          "data": {
            "text/plain": [
              "<matplotlib.legend.Legend at 0x7fb974f5eb10>"
            ]
          },
          "metadata": {},
          "execution_count": 109
        },
        {
          "output_type": "display_data",
          "data": {
            "text/plain": [
              "<Figure size 432x288 with 1 Axes>"
            ],
            "image/png": "[encoded data removed]"
          },
          "metadata": {
            "needs_background": "light"
          }
        }
      ]
    },
    {
      "cell_type": "markdown",
      "source": [
        "**CNN WITH KERNEL SIZE 3**"
      ],
      "metadata": {
        "id": "S6-VY2J_MkSs"
      },
      "id": "S6-VY2J_MkSs"
    },
    {
      "cell_type": "code",
      "source": [
        "#CNN with kernel size=3\n",
        "#CNN With Text classification with kernal size = 3\n",
        "\n",
        "CNN_model1 = Sequential()\n",
        "CNN_model1.add(Embedding(dictionary_length,embedding_size,input_length=input_length))\n",
        "CNN_model1.add(Conv1D(50,3,padding='valid',activation='relu',strides=1,kernel_regularizer=tf.keras.regularizers.l2(0.2)))\n",
        "#CNN_model1.add(Dropout(0.25))\n",
        "CNN_model1.add(GlobalAveragePooling1D())\n",
        "#CNN_model1.add(Dropout(0.25))\n",
        "CNN_model1.add(Dense(25, activation='relu'))\n",
        "CNN_model1.add(Dense(10, activation='softmax'))\n",
        "\n",
        "CNN_model1.compile(optimizer='adam',\n",
        "              loss='categorical_crossentropy',\n",
        "              metrics=['AUC'])\n",
        "\n",
        "CNN_model1.summary()\n",
        "\n",
        "\n",
        "#Fitting the model to the test data and validating with the validation data\n",
        "hist_cnn1 = CNN_model1.fit(X_train, y_train, batch_size=batch_size, epochs=10, validation_data=(X_val, y_val))\n",
        "\n",
        "#Testing the accuracy of model using the test data.\n",
        "print('\\n => Evaluating the model on test data')\n",
        "CNN_Kernel2_results = CNN_model1.evaluate(X_test, y_test, batch_size=batch_size)\n",
        "test_loss, cnn_kernal_3_test_acc = CNN_Kernel2_results\n",
        "print(\"Model accuracy on test data: {}% \".format( round(cnn_kernal_3_test_acc*100,2)))"
      ],
      "metadata": {
        "colab": {
          "base_uri": "https://localhost:8080/"
        },
        "id": "vpujZWON_ofR",
        "outputId": "252dfd38-2be5-4571-e8b9-97348e2f51f5"
      },
      "id": "vpujZWON_ofR",
      "execution_count": 68,
      "outputs": [
        {
          "output_type": "stream",
          "name": "stdout",
          "text": [
            "Model: \"sequential_6\"\n",
            "_________________________________________________________________\n",
            " Layer (type)                Output Shape              Param #   \n",
            "=================================================================\n",
            " embedding_5 (Embedding)     (None, 100, 50)           50000     \n",
            "                                                                 \n",
            " conv1d_1 (Conv1D)           (None, 98, 50)            7550      \n",
            "                                                                 \n",
            " global_average_pooling1d_2   (None, 50)               0         \n",
            " (GlobalAveragePooling1D)                                        \n",
            "                                                                 \n",
            " dense_13 (Dense)            (None, 25)                1275      \n",
            "                                                                 \n",
            " dense_14 (Dense)            (None, 10)                260       \n",
            "                                                                 \n",
            "=================================================================\n",
            "Total params: 59,085\n",
            "Trainable params: 59,085\n",
            "Non-trainable params: 0\n",
            "_________________________________________________________________\n",
            "Epoch 1/10\n",
            "1029/1029 [==============================] - 11s 9ms/step - loss: 2.1750 - auc: 0.8064 - val_loss: 1.7088 - val_auc: 0.8258\n",
            "Epoch 2/10\n",
            "1029/1029 [==============================] - 10s 10ms/step - loss: 1.6964 - auc: 0.8267 - val_loss: 1.6844 - val_auc: 0.8295\n",
            "Epoch 3/10\n",
            "1029/1029 [==============================] - 8s 7ms/step - loss: 1.6817 - auc: 0.8295 - val_loss: 1.6782 - val_auc: 0.8309\n",
            "Epoch 4/10\n",
            "1029/1029 [==============================] - 7s 7ms/step - loss: 1.6689 - auc: 0.8344 - val_loss: 1.6522 - val_auc: 0.8405\n",
            "Epoch 5/10\n",
            "1029/1029 [==============================] - 6s 6ms/step - loss: 1.6306 - auc: 0.8468 - val_loss: 1.6054 - val_auc: 0.8528\n",
            "Epoch 6/10\n",
            "1029/1029 [==============================] - 6s 6ms/step - loss: 1.5916 - auc: 0.8552 - val_loss: 1.5830 - val_auc: 0.8565\n",
            "Epoch 7/10\n",
            "1029/1029 [==============================] - 6s 6ms/step - loss: 1.5739 - auc: 0.8583 - val_loss: 1.5722 - val_auc: 0.8588\n",
            "Epoch 8/10\n",
            "1029/1029 [==============================] - 8s 7ms/step - loss: 1.5624 - auc: 0.8604 - val_loss: 1.5609 - val_auc: 0.8605\n",
            "Epoch 9/10\n",
            "1029/1029 [==============================] - 11s 10ms/step - loss: 1.5552 - auc: 0.8617 - val_loss: 1.5622 - val_auc: 0.8603\n",
            "Epoch 10/10\n",
            "1029/1029 [==============================] - 8s 7ms/step - loss: 1.5520 - auc: 0.8623 - val_loss: 1.5563 - val_auc: 0.8614\n",
            "\n",
            " => Evaluating the model on test data\n",
            "221/221 [==============================] - 1s 4ms/step - loss: 1.5450 - auc: 0.8634\n",
            "Model accuracy on test data: 86.34% \n"
          ]
        }
      ]
    },
    {
      "cell_type": "code",
      "source": [
        "auc_cnn_kernal_3_test_acc = round(cnn_kernal_3_test_acc*100,2)"
      ],
      "metadata": {
        "id": "b0bydhfDla7p"
      },
      "id": "b0bydhfDla7p",
      "execution_count": 70,
      "outputs": []
    },
    {
      "cell_type": "code",
      "source": [
        "CNN_model1.save('part_1/Model_7.hdf5')\n"
      ],
      "metadata": {
        "id": "tegr16hRKH9W"
      },
      "id": "tegr16hRKH9W",
      "execution_count": 71,
      "outputs": []
    },
    {
      "cell_type": "code",
      "source": [
        "#Training and validation accuracy graph for CNN model\n",
        "plt.plot(hist_cnn1.history['auc'],label=\"Training auc\")\n",
        "plt.plot(hist_cnn1.history['val_auc'],label=\"Validation auc\")\n",
        "plt.title('Training and validation auc CNN with Kernel 3')\n",
        "plt.xlabel('Epochs')\n",
        "plt.ylabel('auc')\n",
        "plt.legend()"
      ],
      "metadata": {
        "colab": {
          "base_uri": "https://localhost:8080/",
          "height": 312
        },
        "id": "NCeRFTcKcMfn",
        "outputId": "a6b57e26-03ee-4bee-bba9-8d9824315cd1"
      },
      "id": "NCeRFTcKcMfn",
      "execution_count": 108,
      "outputs": [
        {
          "output_type": "execute_result",
          "data": {
            "text/plain": [
              "<matplotlib.legend.Legend at 0x7fb975029b50>"
            ]
          },
          "metadata": {},
          "execution_count": 108
        },
        {
          "output_type": "display_data",
          "data": {
            "text/plain": [
              "<Figure size 432x288 with 1 Axes>"
            ],
            "image/png": "[encoded data removed]"
          },
          "metadata": {
            "needs_background": "light"
          }
        }
      ]
    },
    {
      "cell_type": "code",
      "source": [
        "#Training and validation loss plot for CNN model\n",
        "\n",
        "plt.plot(hist_cnn1.history['loss'],label=\"Training loss\")\n",
        "plt.plot(hist_cnn1.history['val_loss'],label=\"Validation loss\")\n",
        "plt.title('Training and validation auc with kernel 3')\n",
        "plt.xlabel('Epochs')\n",
        "plt.ylabel('loss')\n",
        "plt.legend()"
      ],
      "metadata": {
        "colab": {
          "base_uri": "https://localhost:8080/",
          "height": 312
        },
        "id": "kMMR_R--cTAe",
        "outputId": "e51e147d-fa21-437b-88fe-787f2b4e84ec"
      },
      "id": "kMMR_R--cTAe",
      "execution_count": 107,
      "outputs": [
        {
          "output_type": "execute_result",
          "data": {
            "text/plain": [
              "<matplotlib.legend.Legend at 0x7fb975078e90>"
            ]
          },
          "metadata": {},
          "execution_count": 107
        },
        {
          "output_type": "display_data",
          "data": {
            "text/plain": [
              "<Figure size 432x288 with 1 Axes>"
            ],
            "image/png": "[encoded data removed]"
          },
          "metadata": {
            "needs_background": "light"
          }
        }
      ]
    },
    {
      "cell_type": "markdown",
      "source": [
        "**CNN LSTM WITH KERNEL SIZE 5**"
      ],
      "metadata": {
        "id": "RwWDieGzMzov"
      },
      "id": "RwWDieGzMzov"
    },
    {
      "cell_type": "code",
      "source": [
        "#multiple CNN model with kernel size 5 passed to LSTM layer\n",
        "\n",
        "pool_size=2\n",
        "cnn_lstm_model = Sequential()\n",
        "cnn_lstm_model.add(Embedding(dictionary_length,embedding_size,input_length=input_length))\n",
        "cnn_lstm_model.add(Conv1D(50, 3, padding='valid',activation='relu'))\n",
        "#cnn_lstm_model.add(GlobalAveragePooling1D())\n",
        "cnn_lstm_model.add(MaxPooling1D(pool_size=pool_size))\n",
        "cnn_lstm_model.add(LSTM(25,dropout=0.2, recurrent_dropout=0.2))\n",
        "#cnn_lstm_model.add(Dropout(0.2))\n",
        "#cnn_lstm_model.add(Dense(25, activation='relu'))\n",
        "cnn_lstm_model.add(Dense(10, activation='softmax'))\n",
        "\n",
        "#compiling the model\n",
        "cnn_lstm_model.compile(optimizer='adam',\n",
        "              loss='categorical_crossentropy',\n",
        "              metrics=['AUC'])\n",
        "\n",
        "cnn_lstm_model.summary()\n",
        "\n",
        "\n",
        "#Fitting the model to the test data and validating with the validation data\n",
        "hist_cnn_lstm = cnn_lstm_model.fit(X_train, y_train, batch_size=batch_size, epochs=10, validation_data=(X_val, y_val))\n",
        "\n",
        "#Testing the accuracy of model using the test data.\n",
        "print('\\n => Evaluate on test data')\n",
        "CNN_Kernel3_results = cnn_lstm_model.evaluate(X_test, y_test, batch_size=batch_size)\n",
        "test_loss, cnn_lstm_test_acc = CNN_Kernel3_results\n",
        "print(\"Model accuracy is: {}% \".format( round(cnn_lstm_test_acc*100,2)))"
      ],
      "metadata": {
        "id": "1uOWuvfTAJXY",
        "colab": {
          "base_uri": "https://localhost:8080/"
        },
        "outputId": "c63bf917-1e53-4625-b803-ac2ba0600492"
      },
      "id": "1uOWuvfTAJXY",
      "execution_count": 74,
      "outputs": [
        {
          "output_type": "stream",
          "name": "stdout",
          "text": [
            "WARNING:tensorflow:Layer lstm_4 will not use cuDNN kernels since it doesn't meet the criteria. It will use a generic GPU kernel as fallback when running on GPU.\n"
          ]
        },
        {
          "output_type": "stream",
          "name": "stderr",
          "text": [
            "WARNING:tensorflow:Layer lstm_4 will not use cuDNN kernels since it doesn't meet the criteria. It will use a generic GPU kernel as fallback when running on GPU.\n"
          ]
        },
        {
          "output_type": "stream",
          "name": "stdout",
          "text": [
            "Model: \"sequential_7\"\n",
            "_________________________________________________________________\n",
            " Layer (type)                Output Shape              Param #   \n",
            "=================================================================\n",
            " embedding_6 (Embedding)     (None, 100, 50)           50000     \n",
            "                                                                 \n",
            " conv1d_2 (Conv1D)           (None, 98, 50)            7550      \n",
            "                                                                 \n",
            " max_pooling1d (MaxPooling1D  (None, 49, 50)           0         \n",
            " )                                                               \n",
            "                                                                 \n",
            " lstm_4 (LSTM)               (None, 25)                7600      \n",
            "                                                                 \n",
            " dense_15 (Dense)            (None, 10)                260       \n",
            "                                                                 \n",
            "=================================================================\n",
            "Total params: 65,410\n",
            "Trainable params: 65,410\n",
            "Non-trainable params: 0\n",
            "_________________________________________________________________\n",
            "Epoch 1/10\n",
            "1029/1029 [==============================] - 221s 212ms/step - loss: 1.6432 - auc: 0.8391 - val_loss: 1.5318 - val_auc: 0.8632\n",
            "Epoch 2/10\n",
            "1029/1029 [==============================] - 216s 210ms/step - loss: 1.5057 - auc: 0.8684 - val_loss: 1.4760 - val_auc: 0.8741\n",
            "Epoch 3/10\n",
            "1029/1029 [==============================] - 215s 208ms/step - loss: 1.4543 - auc: 0.8781 - val_loss: 1.4367 - val_auc: 0.8813\n",
            "Epoch 4/10\n",
            "1029/1029 [==============================] - 220s 214ms/step - loss: 1.4122 - auc: 0.8856 - val_loss: 1.4016 - val_auc: 0.8874\n",
            "Epoch 5/10\n",
            "1029/1029 [==============================] - 215s 209ms/step - loss: 1.3700 - auc: 0.8928 - val_loss: 1.3637 - val_auc: 0.8937\n",
            "Epoch 6/10\n",
            "1029/1029 [==============================] - 224s 217ms/step - loss: 1.3292 - auc: 0.8995 - val_loss: 1.3209 - val_auc: 0.9006\n",
            "Epoch 7/10\n",
            "1029/1029 [==============================] - 247s 240ms/step - loss: 1.2951 - auc: 0.9048 - val_loss: 1.2956 - val_auc: 0.9047\n",
            "Epoch 8/10\n",
            "1029/1029 [==============================] - 223s 216ms/step - loss: 1.2677 - auc: 0.9089 - val_loss: 1.2735 - val_auc: 0.9079\n",
            "Epoch 9/10\n",
            "1029/1029 [==============================] - 218s 212ms/step - loss: 1.2469 - auc: 0.9119 - val_loss: 1.2620 - val_auc: 0.9098\n",
            "Epoch 10/10\n",
            "1029/1029 [==============================] - 217s 211ms/step - loss: 1.2271 - auc: 0.9148 - val_loss: 1.2413 - val_auc: 0.9125\n",
            "\n",
            " => Evaluate on test data\n",
            "221/221 [==============================] - 4s 16ms/step - loss: 1.2391 - auc: 0.9129\n",
            "Model accuracy is: 91.29% \n"
          ]
        }
      ]
    },
    {
      "cell_type": "code",
      "source": [
        "auc_cnn_lstm_test_acc = round(cnn_lstm_test_acc*100,2)"
      ],
      "metadata": {
        "id": "X5ONIm2cl3uF"
      },
      "id": "X5ONIm2cl3uF",
      "execution_count": 75,
      "outputs": []
    },
    {
      "cell_type": "code",
      "source": [
        "#saving cnn_lstm model\n",
        "cnn_lstm_model.save('/content/drive/MyDrive/Deep Learning/part1/Model_8.hdf5')\n"
      ],
      "metadata": {
        "id": "2zPiwi7MNkmL"
      },
      "id": "2zPiwi7MNkmL",
      "execution_count": 77,
      "outputs": []
    },
    {
      "cell_type": "code",
      "source": [
        "#Training and validation accuracy graph for CNN model\n",
        "plt.plot(hist_cnn_lstm.history['auc'],label=\"Training auc\")\n",
        "plt.plot(hist_cnn_lstm.history['val_auc'],label=\"Validation auc\")\n",
        "plt.title('Training and validation auc CNN with Kernel 2')\n",
        "plt.xlabel('Epochs')\n",
        "plt.ylabel('auc')\n",
        "plt.legend()"
      ],
      "metadata": {
        "colab": {
          "base_uri": "https://localhost:8080/",
          "height": 312
        },
        "id": "woWJn27hcYXp",
        "outputId": "a2c7b0ea-b011-40bc-ca6a-98dc4126b56e"
      },
      "id": "woWJn27hcYXp",
      "execution_count": 79,
      "outputs": [
        {
          "output_type": "execute_result",
          "data": {
            "text/plain": [
              "<matplotlib.legend.Legend at 0x7fb9d5a05b50>"
            ]
          },
          "metadata": {},
          "execution_count": 79
        },
        {
          "output_type": "display_data",
          "data": {
            "text/plain": [
              "<Figure size 432x288 with 1 Axes>"
            ],
            "image/png": "[encoded data removed]"
          },
          "metadata": {
            "needs_background": "light"
          }
        }
      ]
    },
    {
      "cell_type": "code",
      "source": [
        "#Training and validation loss plot for CNN model\n",
        "\n",
        "plt.plot(hist_cnn_lstm.history['loss'],label=\"Training loss\")\n",
        "plt.plot(hist_cnn_lstm.history['val_loss'],label=\"Validation loss\")\n",
        "plt.title('Training and validation auc with kernel 2')\n",
        "plt.xlabel('Epochs')\n",
        "plt.ylabel('loss')\n",
        "plt.legend()"
      ],
      "metadata": {
        "colab": {
          "base_uri": "https://localhost:8080/",
          "height": 312
        },
        "id": "dRm4r2w-cccm",
        "outputId": "8c8f2edb-196e-404e-ea25-52987ec8db44"
      },
      "id": "dRm4r2w-cccm",
      "execution_count": 80,
      "outputs": [
        {
          "output_type": "execute_result",
          "data": {
            "text/plain": [
              "<matplotlib.legend.Legend at 0x7fb97417f4d0>"
            ]
          },
          "metadata": {},
          "execution_count": 80
        },
        {
          "output_type": "display_data",
          "data": {
            "text/plain": [
              "<Figure size 432x288 with 1 Axes>"
            ],
            "image/png": "[encoded data removed]"
          },
          "metadata": {
            "needs_background": "light"
          }
        }
      ]
    },
    {
      "cell_type": "markdown",
      "source": [
        "**COMPARISON TO NON-NEURAL METHODS**"
      ],
      "metadata": {
        "id": "GiKy_7eSNmpc"
      },
      "id": "GiKy_7eSNmpc"
    },
    {
      "cell_type": "markdown",
      "source": [
        "**DECISION TREE CLASSIFIER**"
      ],
      "metadata": {
        "id": "yHlIauuLNslw"
      },
      "id": "yHlIauuLNslw"
    },
    {
      "cell_type": "code",
      "source": [
        "x = pd.Categorical(df['Genre'])               \n",
        "df['Genre']=x.codes\n",
        "x_train2, x_test2, y_train2, y_test2 = train_test_split(post_seq_padded, df['Genre'], test_size=0.30, random_state=2)"
      ],
      "metadata": {
        "id": "DxWaF8MSYgGQ"
      },
      "id": "DxWaF8MSYgGQ",
      "execution_count": 82,
      "outputs": []
    },
    {
      "cell_type": "code",
      "source": [
        "from sklearn.tree import DecisionTreeClassifier#for checking testing results\n",
        "\n",
        "# Defining the decision tree algorithmdtree=DecisionTreeClassifier()\n",
        "dtree=DecisionTreeClassifier()\n",
        "dtree.fit(X_train,y_train)\n",
        "print('Decision Tree Classifier Created')\n"
      ],
      "metadata": {
        "id": "fVDFVi8QXEIC",
        "colab": {
          "base_uri": "https://localhost:8080/"
        },
        "outputId": "0baef05c-97d5-4dbc-b817-40d92aa261cc"
      },
      "id": "fVDFVi8QXEIC",
      "execution_count": 84,
      "outputs": [
        {
          "output_type": "stream",
          "name": "stdout",
          "text": [
            "Decision Tree Classifier Created\n"
          ]
        }
      ]
    },
    {
      "cell_type": "code",
      "source": [
        "# Predicting the values of test data\n",
        "import sklearn.metrics as metrics\n",
        "\n",
        "y_pred = dtree.predict(X_test)\n",
        "auc = metrics.roc_auc_score(y_test, y_pred)\n",
        "print(auc)\n"
      ],
      "metadata": {
        "id": "RdgQk5oTYRYs",
        "colab": {
          "base_uri": "https://localhost:8080/"
        },
        "outputId": "f6782106-67f4-4f56-a805-7c5d84e86bed"
      },
      "id": "RdgQk5oTYRYs",
      "execution_count": 88,
      "outputs": [
        {
          "output_type": "stream",
          "name": "stdout",
          "text": [
            "0.8363975702509437\n"
          ]
        }
      ]
    },
    {
      "cell_type": "markdown",
      "source": [
        "**LogisticRegression**"
      ],
      "metadata": {
        "id": "8z-OFsc7OlbY"
      },
      "id": "8z-OFsc7OlbY"
    },
    {
      "cell_type": "code",
      "source": [
        "from sklearn.linear_model import LogisticRegression\n",
        "from sklearn.metrics import roc_auc_score\n",
        "clf = LogisticRegression(solver=\"liblinear\").fit(x_train2, y_train2)\n",
        "preds = clf.predict_proba(x_test2)\n",
        "roc_auc_logistic = roc_auc_score(y_test2,preds, multi_class='ovr')\n",
        "print(roc_auc_logistic) "
      ],
      "metadata": {
        "id": "Ta9eR77pAEWW",
        "colab": {
          "base_uri": "https://localhost:8080/"
        },
        "outputId": "bd464779-3d4e-4ccf-92a4-920370d5b17f"
      },
      "id": "Ta9eR77pAEWW",
      "execution_count": 89,
      "outputs": [
        {
          "output_type": "stream",
          "name": "stdout",
          "text": [
            "0.5479946107274234\n"
          ]
        }
      ]
    },
    {
      "cell_type": "markdown",
      "source": [
        "**COMPARISON OF ALL ALGORITHMS RESULTS**"
      ],
      "metadata": {
        "id": "dYKXamvmO0Gu"
      },
      "id": "dYKXamvmO0Gu"
    },
    {
      "cell_type": "code",
      "source": [
        "x = PrettyTable()\n",
        "print('\\n')\n",
        "print(\"Deatiled Performance of the all models\")\n",
        "x.field_names = [\"Model\", \"Accuracy\"]\n",
        "\n",
        "x.add_row([\"RNN with traditional features\", (score_SimpleRNN,3)])\n",
        "x.add_row([\"LSTM Single Layer with traditional features\", (score_LSTM,3)])\n",
        "x.add_row([\"Multi Layer LSTM with Embedding features\", (score_MultiLSTM ,3)])\n",
        "\n",
        "\n",
        "x.add_row([\"Pretrained Embedding with GNEWS-SWIVEL EMBEDDING  \", (auc_pre_trained_model_test_acc,3)])\n",
        "x.add_row([\"Pretrained Embedding fly model\", (auc_model_fly_test_acc,3)])\n",
        "\n",
        "x.add_row([\"CNN Text Classification with kernel size=5\", (auc_cnn_kernal_5_test_acc,3)])\n",
        "x.add_row([\"CNN Text Classification with kernel size=3\", (auc_cnn_kernal_3_test_acc,3)])\n",
        "x.add_row([\"CNN Text Classification with kernel size=2\", (auc_cnn_lstm_test_acc,3)])\n",
        "\n",
        "\n",
        "\n",
        "x.add_row([\"Logistic Regression\", (roc_auc_logistic,3)])\n",
        "x.add_row([\"Decision Tree\", (auc,3)])\n",
        "\n",
        "print(x)\n",
        "print('\\n')"
      ],
      "metadata": {
        "id": "75q8Hphzg76W",
        "colab": {
          "base_uri": "https://localhost:8080/"
        },
        "outputId": "aa9f1558-351f-4b69-9844-1e25d0a6a60c"
      },
      "id": "75q8Hphzg76W",
      "execution_count": 90,
      "outputs": [
        {
          "output_type": "stream",
          "name": "stdout",
          "text": [
            "\n",
            "\n",
            "Deatiled Performance of the all models\n",
            "+----------------------------------------------------+-----------------------------------------------+\n",
            "|                       Model                        |                    Accuracy                   |\n",
            "+----------------------------------------------------+-----------------------------------------------+\n",
            "|           RNN with traditional features            |  ([1.5551918745040894, 0.859252393245697], 3) |\n",
            "|    LSTM Single Layer with traditional features     | ([1.4086586236953735, 0.8889914155006409], 3) |\n",
            "|      Multi Layer LSTM with Embedding features      | ([1.8069355487823486, 0.7919185161590576], 3) |\n",
            "| Pretrained Embedding with GNEWS-SWIVEL EMBEDDING   |                   (90.98, 3)                  |\n",
            "|           Pretrained Embedding fly model           |                   (86.49, 3)                  |\n",
            "|     CNN Text Classification with kernel size=5     |                   (86.09, 3)                  |\n",
            "|     CNN Text Classification with kernel size=3     |                   (86.34, 3)                  |\n",
            "|     CNN Text Classification with kernel size=2     |                   (91.29, 3)                  |\n",
            "|                Logistic Regression                 |            (0.5479946107274234, 3)            |\n",
            "|                   Decision Tree                    |            (0.8363975702509437, 3)            |\n",
            "+----------------------------------------------------+-----------------------------------------------+\n",
            "\n",
            "\n"
          ]
        }
      ]
    },
    {
      "cell_type": "markdown",
      "source": [
        "**BEST TWO MODELS FROM PRETRAINED AND SCRATCH**"
      ],
      "metadata": {
        "id": "0O5IgjDMO9CE"
      },
      "id": "0O5IgjDMO9CE"
    },
    {
      "cell_type": "code",
      "source": [
        "x = PrettyTable()\n",
        "print('\\n')\n",
        "print(\"Best Model.\")\n",
        "x.field_names = [\"Model\", \"Accuracy\"]\n",
        "x.add_row([\"Pretrained Embedding with GNEWS-SWIVEL EMBEDDING\",round(auc_pre_trained_model_test_acc,3)])\n",
        "x.add_row([\"CNN Text Classification with kernel size=2\",round(auc_cnn_lstm_test_acc,3)])\n",
        "print(x)\n",
        "print('\\n')"
      ],
      "metadata": {
        "id": "3Y84XbC4KmVo",
        "colab": {
          "base_uri": "https://localhost:8080/"
        },
        "outputId": "5cb78715-f1c6-4413-dd0a-081b3f83e189"
      },
      "id": "3Y84XbC4KmVo",
      "execution_count": 112,
      "outputs": [
        {
          "output_type": "stream",
          "name": "stdout",
          "text": [
            "\n",
            "\n",
            "Best Model.\n",
            "+--------------------------------------------------+----------+\n",
            "|                      Model                       | Accuracy |\n",
            "+--------------------------------------------------+----------+\n",
            "| Pretrained Embedding with GNEWS-SWIVEL EMBEDDING |  90.98   |\n",
            "|    CNN Text Classification with kernel size=2    |  91.29   |\n",
            "+--------------------------------------------------+----------+\n",
            "\n",
            "\n"
          ]
        }
      ]
    },
    {
      "cell_type": "markdown",
      "source": [
        "**GENRE PREDICTION USING BEST PERFORMING MODEL**"
      ],
      "metadata": {
        "id": "34J5-SbRPPAH"
      },
      "id": "34J5-SbRPPAH"
    },
    {
      "cell_type": "code",
      "source": [
        "model = load_model('/content/drive/MyDrive/Deep Learning/part1/Model_8.hdf5')"
      ],
      "metadata": {
        "id": "75EnUJdHjVrI",
        "colab": {
          "base_uri": "https://localhost:8080/"
        },
        "outputId": "40644f3c-046e-45f8-b906-810c6a2ae914"
      },
      "id": "75EnUJdHjVrI",
      "execution_count": 29,
      "outputs": [
        {
          "output_type": "stream",
          "name": "stdout",
          "text": [
            "WARNING:tensorflow:Layer lstm_4 will not use cuDNN kernels since it doesn't meet the criteria. It will use a generic GPU kernel as fallback when running on GPU.\n"
          ]
        }
      ]
    },
    {
      "cell_type": "code",
      "source": [
        "pred = model.predict(X_test[:10])\n",
        "pred = pred.argmax(axis=1)"
      ],
      "metadata": {
        "id": "kSc5hakspowB"
      },
      "id": "kSc5hakspowB",
      "execution_count": 30,
      "outputs": []
    },
    {
      "cell_type": "code",
      "source": [
        "from sklearn import preprocessing\n",
        "tge = preprocessing.LabelEncoder()\n",
        "encGen=tge.fit_transform(df['Genre'])\n",
        "df['Genre'] = encGen\n",
        "predictions = tge.inverse_transform(pred)"
      ],
      "metadata": {
        "id": "HEW1OhSTp0o5"
      },
      "id": "HEW1OhSTp0o5",
      "execution_count": 32,
      "outputs": []
    },
    {
      "cell_type": "markdown",
      "source": [
        ""
      ],
      "metadata": {
        "id": "psqIUtSw-Ha9"
      },
      "id": "psqIUtSw-Ha9"
    },
    {
      "cell_type": "code",
      "source": [
        "genre = pd.DataFrame()\n",
        "genre['Song Lyrics'] = df.Lyrics.head(10)\n",
        "genre['Prediction of Genre'] = predictions\n",
        "genre"
      ],
      "metadata": {
        "colab": {
          "base_uri": "https://localhost:8080/",
          "height": 363
        },
        "id": "JpWFUHYRp6bF",
        "outputId": "f343920c-fb3c-4ada-d160-a957019700b7"
      },
      "id": "JpWFUHYRp6bF",
      "execution_count": 33,
      "outputs": [
        {
          "output_type": "execute_result",
          "data": {
            "text/plain": [
              "                                         Song Lyrics  Prediction of Genre\n",
              "0  It starts with pain, folowed by hate Fueled by...                    5\n",
              "1  Fredom! Alone again again alone Patiently wait...                    9\n",
              "2  Biting the hand that feds you, lying to the vo...                    9\n",
              "3  You say you know just who I am But you can't i...                    7\n",
              "4  My heart is beating faster can't control these...                    7\n",
              "5  You say you know just who I am But you can't i...                    7\n",
              "6  Loking for light in the darknes Is something f...                    5\n",
              "7  Mother mother can you hear me,I kep trying Jus...                    9\n",
              "8  It was you, That showed me who I am, And taugh...                    9\n",
              "9   I hear the words you say to me I se the way y...                    9"
            ],
            "text/html": [
              "\n",
              "  <div id=\"df-4647c53f-22ad-4d0d-8939-3e791d925b28\">\n",
              "    <div class=\"colab-df-container\">\n",
              "      <div>\n",
              "<style scoped>\n",
              "    .dataframe tbody tr th:only-of-type {\n",
              "        vertical-align: middle;\n",
              "    }\n",
              "\n",
              "    .dataframe tbody tr th {\n",
              "        vertical-align: top;\n",
              "    }\n",
              "\n",
              "    .dataframe thead th {\n",
              "        text-align: right;\n",
              "    }\n",
              "</style>\n",
              "<table border=\"1\" class=\"dataframe\">\n",
              "  <thead>\n",
              "    <tr style=\"text-align: right;\">\n",
              "      <th></th>\n",
              "      <th>Song Lyrics</th>\n",
              "      <th>Prediction of Genre</th>\n",
              "    </tr>\n",
              "  </thead>\n",
              "  <tbody>\n",
              "    <tr>\n",
              "      <th>0</th>\n",
              "      <td>It starts with pain, folowed by hate Fueled by...</td>\n",
              "      <td>5</td>\n",
              "    </tr>\n",
              "    <tr>\n",
              "      <th>1</th>\n",
              "      <td>Fredom! Alone again again alone Patiently wait...</td>\n",
              "      <td>9</td>\n",
              "    </tr>\n",
              "    <tr>\n",
              "      <th>2</th>\n",
              "      <td>Biting the hand that feds you, lying to the vo...</td>\n",
              "      <td>9</td>\n",
              "    </tr>\n",
              "    <tr>\n",
              "      <th>3</th>\n",
              "      <td>You say you know just who I am But you can't i...</td>\n",
              "      <td>7</td>\n",
              "    </tr>\n",
              "    <tr>\n",
              "      <th>4</th>\n",
              "      <td>My heart is beating faster can't control these...</td>\n",
              "      <td>7</td>\n",
              "    </tr>\n",
              "    <tr>\n",
              "      <th>5</th>\n",
              "      <td>You say you know just who I am But you can't i...</td>\n",
              "      <td>7</td>\n",
              "    </tr>\n",
              "    <tr>\n",
              "      <th>6</th>\n",
              "      <td>Loking for light in the darknes Is something f...</td>\n",
              "      <td>5</td>\n",
              "    </tr>\n",
              "    <tr>\n",
              "      <th>7</th>\n",
              "      <td>Mother mother can you hear me,I kep trying Jus...</td>\n",
              "      <td>9</td>\n",
              "    </tr>\n",
              "    <tr>\n",
              "      <th>8</th>\n",
              "      <td>It was you, That showed me who I am, And taugh...</td>\n",
              "      <td>9</td>\n",
              "    </tr>\n",
              "    <tr>\n",
              "      <th>9</th>\n",
              "      <td>I hear the words you say to me I se the way y...</td>\n",
              "      <td>9</td>\n",
              "    </tr>\n",
              "  </tbody>\n",
              "</table>\n",
              "</div>\n",
              "      <button class=\"colab-df-convert\" onclick=\"convertToInteractive('df-4647c53f-22ad-4d0d-8939-3e791d925b28')\"\n",
              "              title=\"Convert this dataframe to an interactive table.\"\n",
              "              style=\"display:none;\">\n",
              "        \n",
              "  <svg xmlns=\"http://www.w3.org/2000/svg\" height=\"24px\"viewBox=\"0 0 24 24\"\n",
              "       width=\"24px\">\n",
              "    <path d=\"M0 0h24v24H0V0z\" fill=\"none\"/>\n",
              "    <path d=\"M18.56 5.44l.94 2.06.94-2.06 2.06-.94-2.06-.94-.94-2.06-.94 2.06-2.06.94zm-11 1L8.5 8.5l.94-2.06 2.06-.94-2.06-.94L8.5 2.5l-.94 2.06-2.06.94zm10 10l.94 2.06.94-2.06 2.06-.94-2.06-.94-.94-2.06-.94 2.06-2.06.94z\"/><path d=\"M17.41 7.96l-1.37-1.37c-.4-.4-.92-.59-1.43-.59-.52 0-1.04.2-1.43.59L10.3 9.45l-7.72 7.72c-.78.78-.78 2.05 0 2.83L4 21.41c.39.39.9.59 1.41.59.51 0 1.02-.2 1.41-.59l7.78-7.78 2.81-2.81c.8-.78.8-2.07 0-2.86zM5.41 20L4 18.59l7.72-7.72 1.47 1.35L5.41 20z\"/>\n",
              "  </svg>\n",
              "      </button>\n",
              "      \n",
              "  <style>\n",
              "    .colab-df-container {\n",
              "      display:flex;\n",
              "      flex-wrap:wrap;\n",
              "      gap: 12px;\n",
              "    }\n",
              "\n",
              "    .colab-df-convert {\n",
              "      background-color: #E8F0FE;\n",
              "      border: none;\n",
              "      border-radius: 50%;\n",
              "      cursor: pointer;\n",
              "      display: none;\n",
              "      fill: #1967D2;\n",
              "      height: 32px;\n",
              "      padding: 0 0 0 0;\n",
              "      width: 32px;\n",
              "    }\n",
              "\n",
              "    .colab-df-convert:hover {\n",
              "      background-color: #E2EBFA;\n",
              "      box-shadow: 0px 1px 2px rgba(60, 64, 67, 0.3), 0px 1px 3px 1px rgba(60, 64, 67, 0.15);\n",
              "      fill: #174EA6;\n",
              "    }\n",
              "\n",
              "    [theme=dark] .colab-df-convert {\n",
              "      background-color: #3B4455;\n",
              "      fill: #D2E3FC;\n",
              "    }\n",
              "\n",
              "    [theme=dark] .colab-df-convert:hover {\n",
              "      background-color: #434B5C;\n",
              "      box-shadow: 0px 1px 3px 1px rgba(0, 0, 0, 0.15);\n",
              "      filter: drop-shadow(0px 1px 2px rgba(0, 0, 0, 0.3));\n",
              "      fill: #FFFFFF;\n",
              "    }\n",
              "  </style>\n",
              "\n",
              "      <script>\n",
              "        const buttonEl =\n",
              "          document.querySelector('#df-4647c53f-22ad-4d0d-8939-3e791d925b28 button.colab-df-convert');\n",
              "        buttonEl.style.display =\n",
              "          google.colab.kernel.accessAllowed ? 'block' : 'none';\n",
              "\n",
              "        async function convertToInteractive(key) {\n",
              "          const element = document.querySelector('#df-4647c53f-22ad-4d0d-8939-3e791d925b28');\n",
              "          const dataTable =\n",
              "            await google.colab.kernel.invokeFunction('convertToInteractive',\n",
              "                                                     [key], {});\n",
              "          if (!dataTable) return;\n",
              "\n",
              "          const docLinkHtml = 'Like what you see? Visit the ' +\n",
              "            '<a target=\"_blank\" href=https://colab.research.google.com/notebooks/data_table.ipynb>data table notebook</a>'\n",
              "            + ' to learn more about interactive tables.';\n",
              "          element.innerHTML = '';\n",
              "          dataTable['output_type'] = 'display_data';\n",
              "          await google.colab.output.renderOutput(dataTable, element);\n",
              "          const docLink = document.createElement('div');\n",
              "          docLink.innerHTML = docLinkHtml;\n",
              "          element.appendChild(docLink);\n",
              "        }\n",
              "      </script>\n",
              "    </div>\n",
              "  </div>\n",
              "  "
            ]
          },
          "metadata": {},
          "execution_count": 33
        }
      ]
    }
  ],
  "metadata": {
    "accelerator": "GPU",
    "colab": {
      "collapsed_sections": [],
      "name": "DEEPlEARNING_PART1.ipynb",
      "provenance": []
    },
    "kernelspec": {
      "display_name": "Python 3",
      "language": "python",
      "name": "python3"
    },
    "language_info": {
      "codemirror_mode": {
        "name": "ipython",
        "version": 3
      },
      "file_extension": ".py",
      "mimetype": "text/x-python",
      "name": "python",
      "nbconvert_exporter": "python",
      "pygments_lexer": "ipython3",
      "version": "3.8.8"
    }
  },
  "nbformat": 4,
  "nbformat_minor": 5
}