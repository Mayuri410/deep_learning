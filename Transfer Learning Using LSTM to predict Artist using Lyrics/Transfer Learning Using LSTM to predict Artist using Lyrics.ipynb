{
  "nbformat": 4,
  "nbformat_minor": 0,
  "metadata": {
    "colab": {
      "name": "DEEPLEARNING_PART2.ipynb",
      "provenance": [],
      "collapsed_sections": []
    },
    "kernelspec": {
      "name": "python3",
      "display_name": "Python 3"
    },
    "language_info": {
      "name": "python"
    },
    "accelerator": "GPU"
  },
  "cells": [
    {
      "cell_type": "code",
      "source": [
        "from google.colab import drive\n",
        "drive.mount('/content/drive')"
      ],
      "metadata": {
        "colab": {
          "base_uri": "https://localhost:8080/"
        },
        "id": "gFWi2DTPO1tT",
        "outputId": "66bc3c4d-7f1c-4195-e324-f017a0cfd0c7"
      },
      "execution_count": 177,
      "outputs": [
        {
          "output_type": "stream",
          "name": "stdout",
          "text": [
            "Drive already mounted at /content/drive; to attempt to forcibly remount, call drive.mount(\"/content/drive\", force_remount=True).\n"
          ]
        }
      ]
    },
    {
      "cell_type": "markdown",
      "source": [
        "**IMPORTING LIBRARIES**"
      ],
      "metadata": {
        "id": "T07dVGrJP0UU"
      }
    },
    {
      "cell_type": "code",
      "execution_count": 1,
      "metadata": {
        "id": "qHe9NvFhOt6P"
      },
      "outputs": [],
      "source": [
        "#Importing required libraries\n",
        "import pandas as pd\n",
        "import numpy as np\n",
        "import matplotlib.pyplot as plt\n",
        "from tensorflow.keras.preprocessing.text import text_to_word_sequence\n",
        "from tensorflow.keras.preprocessing.text import Tokenizer\n",
        "from tensorflow.keras.preprocessing import sequence\n",
        "from tensorflow.keras import Sequential\n",
        "from tensorflow.keras.layers import Dense, Dropout, Activation, Flatten,Bidirectional,LSTM, Embedding, Conv1D, GlobalMaxPooling1D, GlobalAveragePooling1D,MaxPooling1D\n",
        "import tensorflow as tf\n",
        "from tensorflow.keras import layers\n",
        "from sklearn.model_selection import train_test_split\n",
        "from sklearn.metrics import accuracy_score,classification_report,confusion_matrix\n",
        "!! pip install -q pyyaml h5py\n",
        "import h5py\n",
        "from tensorflow.keras import optimizers"
      ]
    },
    {
      "cell_type": "markdown",
      "source": [
        "**IMPORTING DATASET**"
      ],
      "metadata": {
        "id": "zpawFkUHP6Pf"
      }
    },
    {
      "cell_type": "code",
      "source": [
        "df = pd.read_csv('/content/drive/MyDrive/Deep Learning/train.csv')"
      ],
      "metadata": {
        "id": "y62QS2VvO2MP"
      },
      "execution_count": 2,
      "outputs": []
    },
    {
      "cell_type": "code",
      "source": [
        "df.head()"
      ],
      "metadata": {
        "colab": {
          "base_uri": "https://localhost:8080/",
          "height": 206
        },
        "id": "IbDH0CmDPH3p",
        "outputId": "748037bc-9932-4c46-85d5-6d09a0212fbe"
      },
      "execution_count": 3,
      "outputs": [
        {
          "output_type": "execute_result",
          "data": {
            "text/plain": [
              "      Artist                     Song Genre Language  \\\n",
              "0  12 stones            world so cold  Rock       en   \n",
              "1  12 stones                   broken  Rock       en   \n",
              "2  12 stones             3 leaf loser  Rock       en   \n",
              "3  12 stones  anthem for the underdog  Rock       en   \n",
              "4  12 stones               adrenaline  Rock       en   \n",
              "\n",
              "                                              Lyrics  \n",
              "0  It starts with pain, followed by hate\\nFueled ...  \n",
              "1  Freedom!\\nAlone again again alone\\nPatiently w...  \n",
              "2  Biting the hand that feeds you, lying to the v...  \n",
              "3  You say you know just who I am\\nBut you can't ...  \n",
              "4  My heart is beating faster can't control these...  "
            ],
            "text/html": [
              "\n",
              "  <div id=\"df-b1505b35-693c-49f4-9e0e-867e67c1f645\">\n",
              "    <div class=\"colab-df-container\">\n",
              "      <div>\n",
              "<style scoped>\n",
              "    .dataframe tbody tr th:only-of-type {\n",
              "        vertical-align: middle;\n",
              "    }\n",
              "\n",
              "    .dataframe tbody tr th {\n",
              "        vertical-align: top;\n",
              "    }\n",
              "\n",
              "    .dataframe thead th {\n",
              "        text-align: right;\n",
              "    }\n",
              "</style>\n",
              "<table border=\"1\" class=\"dataframe\">\n",
              "  <thead>\n",
              "    <tr style=\"text-align: right;\">\n",
              "      <th></th>\n",
              "      <th>Artist</th>\n",
              "      <th>Song</th>\n",
              "      <th>Genre</th>\n",
              "      <th>Language</th>\n",
              "      <th>Lyrics</th>\n",
              "    </tr>\n",
              "  </thead>\n",
              "  <tbody>\n",
              "    <tr>\n",
              "      <th>0</th>\n",
              "      <td>12 stones</td>\n",
              "      <td>world so cold</td>\n",
              "      <td>Rock</td>\n",
              "      <td>en</td>\n",
              "      <td>It starts with pain, followed by hate\\nFueled ...</td>\n",
              "    </tr>\n",
              "    <tr>\n",
              "      <th>1</th>\n",
              "      <td>12 stones</td>\n",
              "      <td>broken</td>\n",
              "      <td>Rock</td>\n",
              "      <td>en</td>\n",
              "      <td>Freedom!\\nAlone again again alone\\nPatiently w...</td>\n",
              "    </tr>\n",
              "    <tr>\n",
              "      <th>2</th>\n",
              "      <td>12 stones</td>\n",
              "      <td>3 leaf loser</td>\n",
              "      <td>Rock</td>\n",
              "      <td>en</td>\n",
              "      <td>Biting the hand that feeds you, lying to the v...</td>\n",
              "    </tr>\n",
              "    <tr>\n",
              "      <th>3</th>\n",
              "      <td>12 stones</td>\n",
              "      <td>anthem for the underdog</td>\n",
              "      <td>Rock</td>\n",
              "      <td>en</td>\n",
              "      <td>You say you know just who I am\\nBut you can't ...</td>\n",
              "    </tr>\n",
              "    <tr>\n",
              "      <th>4</th>\n",
              "      <td>12 stones</td>\n",
              "      <td>adrenaline</td>\n",
              "      <td>Rock</td>\n",
              "      <td>en</td>\n",
              "      <td>My heart is beating faster can't control these...</td>\n",
              "    </tr>\n",
              "  </tbody>\n",
              "</table>\n",
              "</div>\n",
              "      <button class=\"colab-df-convert\" onclick=\"convertToInteractive('df-b1505b35-693c-49f4-9e0e-867e67c1f645')\"\n",
              "              title=\"Convert this dataframe to an interactive table.\"\n",
              "              style=\"display:none;\">\n",
              "        \n",
              "  <svg xmlns=\"http://www.w3.org/2000/svg\" height=\"24px\"viewBox=\"0 0 24 24\"\n",
              "       width=\"24px\">\n",
              "    <path d=\"M0 0h24v24H0V0z\" fill=\"none\"/>\n",
              "    <path d=\"M18.56 5.44l.94 2.06.94-2.06 2.06-.94-2.06-.94-.94-2.06-.94 2.06-2.06.94zm-11 1L8.5 8.5l.94-2.06 2.06-.94-2.06-.94L8.5 2.5l-.94 2.06-2.06.94zm10 10l.94 2.06.94-2.06 2.06-.94-2.06-.94-.94-2.06-.94 2.06-2.06.94z\"/><path d=\"M17.41 7.96l-1.37-1.37c-.4-.4-.92-.59-1.43-.59-.52 0-1.04.2-1.43.59L10.3 9.45l-7.72 7.72c-.78.78-.78 2.05 0 2.83L4 21.41c.39.39.9.59 1.41.59.51 0 1.02-.2 1.41-.59l7.78-7.78 2.81-2.81c.8-.78.8-2.07 0-2.86zM5.41 20L4 18.59l7.72-7.72 1.47 1.35L5.41 20z\"/>\n",
              "  </svg>\n",
              "      </button>\n",
              "      \n",
              "  <style>\n",
              "    .colab-df-container {\n",
              "      display:flex;\n",
              "      flex-wrap:wrap;\n",
              "      gap: 12px;\n",
              "    }\n",
              "\n",
              "    .colab-df-convert {\n",
              "      background-color: #E8F0FE;\n",
              "      border: none;\n",
              "      border-radius: 50%;\n",
              "      cursor: pointer;\n",
              "      display: none;\n",
              "      fill: #1967D2;\n",
              "      height: 32px;\n",
              "      padding: 0 0 0 0;\n",
              "      width: 32px;\n",
              "    }\n",
              "\n",
              "    .colab-df-convert:hover {\n",
              "      background-color: #E2EBFA;\n",
              "      box-shadow: 0px 1px 2px rgba(60, 64, 67, 0.3), 0px 1px 3px 1px rgba(60, 64, 67, 0.15);\n",
              "      fill: #174EA6;\n",
              "    }\n",
              "\n",
              "    [theme=dark] .colab-df-convert {\n",
              "      background-color: #3B4455;\n",
              "      fill: #D2E3FC;\n",
              "    }\n",
              "\n",
              "    [theme=dark] .colab-df-convert:hover {\n",
              "      background-color: #434B5C;\n",
              "      box-shadow: 0px 1px 3px 1px rgba(0, 0, 0, 0.15);\n",
              "      filter: drop-shadow(0px 1px 2px rgba(0, 0, 0, 0.3));\n",
              "      fill: #FFFFFF;\n",
              "    }\n",
              "  </style>\n",
              "\n",
              "      <script>\n",
              "        const buttonEl =\n",
              "          document.querySelector('#df-b1505b35-693c-49f4-9e0e-867e67c1f645 button.colab-df-convert');\n",
              "        buttonEl.style.display =\n",
              "          google.colab.kernel.accessAllowed ? 'block' : 'none';\n",
              "\n",
              "        async function convertToInteractive(key) {\n",
              "          const element = document.querySelector('#df-b1505b35-693c-49f4-9e0e-867e67c1f645');\n",
              "          const dataTable =\n",
              "            await google.colab.kernel.invokeFunction('convertToInteractive',\n",
              "                                                     [key], {});\n",
              "          if (!dataTable) return;\n",
              "\n",
              "          const docLinkHtml = 'Like what you see? Visit the ' +\n",
              "            '<a target=\"_blank\" href=https://colab.research.google.com/notebooks/data_table.ipynb>data table notebook</a>'\n",
              "            + ' to learn more about interactive tables.';\n",
              "          element.innerHTML = '';\n",
              "          dataTable['output_type'] = 'display_data';\n",
              "          await google.colab.output.renderOutput(dataTable, element);\n",
              "          const docLink = document.createElement('div');\n",
              "          docLink.innerHTML = docLinkHtml;\n",
              "          element.appendChild(docLink);\n",
              "        }\n",
              "      </script>\n",
              "    </div>\n",
              "  </div>\n",
              "  "
            ]
          },
          "metadata": {},
          "execution_count": 3
        }
      ]
    },
    {
      "cell_type": "code",
      "source": [
        "df.Artist.value_counts().head(10).index"
      ],
      "metadata": {
        "colab": {
          "base_uri": "https://localhost:8080/"
        },
        "id": "WS5Uv9P3PDwi",
        "outputId": "9549ae14-feef-4f2d-d283-bcdd5b71ddcc"
      },
      "execution_count": 4,
      "outputs": [
        {
          "output_type": "execute_result",
          "data": {
            "text/plain": [
              "Index(['elvis presley', 'chris brown', 'elvis costello', 'ella fitzgerald',\n",
              "       'the rolling stones', 'bee gees', 'glee', 'bad religion', 'beyonce',\n",
              "       'elton john'],\n",
              "      dtype='object')"
            ]
          },
          "metadata": {},
          "execution_count": 4
        }
      ]
    },
    {
      "cell_type": "code",
      "source": [
        "artist_list =  df.Artist.value_counts().head(10).index"
      ],
      "metadata": {
        "id": "HpVCcVKXPGIc"
      },
      "execution_count": 5,
      "outputs": []
    },
    {
      "cell_type": "code",
      "source": [
        "df = df[df.Artist.isin(artist_list)]"
      ],
      "metadata": {
        "id": "ZUE-EvjkPQxX"
      },
      "execution_count": 6,
      "outputs": []
    },
    {
      "cell_type": "code",
      "source": [
        "df.shape"
      ],
      "metadata": {
        "colab": {
          "base_uri": "https://localhost:8080/"
        },
        "id": "iE1GfB9VP2lc",
        "outputId": "b29bc888-21f8-4bf3-e844-59bb5a4f8207"
      },
      "execution_count": 7,
      "outputs": [
        {
          "output_type": "execute_result",
          "data": {
            "text/plain": [
              "(9273, 5)"
            ]
          },
          "metadata": {},
          "execution_count": 7
        }
      ]
    },
    {
      "cell_type": "code",
      "execution_count": 8,
      "metadata": {
        "id": "552f9541"
      },
      "outputs": [],
      "source": [
        "songs= df['Lyrics']"
      ]
    },
    {
      "cell_type": "markdown",
      "source": [
        "**DATA CLEANING**"
      ],
      "metadata": {
        "id": "bdkCWGuWQCpy"
      }
    },
    {
      "cell_type": "code",
      "execution_count": 9,
      "metadata": {
        "id": "1e89db83"
      },
      "outputs": [],
      "source": [
        "songs={'\\n':' '}"
      ]
    },
    {
      "cell_type": "code",
      "execution_count": 10,
      "metadata": {
        "id": "60051556"
      },
      "outputs": [],
      "source": [
        "df.replace(songs,regex=True,inplace=True)"
      ]
    },
    {
      "cell_type": "code",
      "source": [
        "df.dropna(inplace=True)\n",
        "df.shape"
      ],
      "metadata": {
        "colab": {
          "base_uri": "https://localhost:8080/"
        },
        "id": "ZxIboGwdRhV0",
        "outputId": "180cb882-7d89-4cdc-eb38-6496e20475c6"
      },
      "execution_count": 11,
      "outputs": [
        {
          "output_type": "execute_result",
          "data": {
            "text/plain": [
              "(9272, 5)"
            ]
          },
          "metadata": {},
          "execution_count": 11
        }
      ]
    },
    {
      "cell_type": "code",
      "source": [
        "dictionary_length = 1000\n",
        "input_length = 100\n",
        "\n",
        "tokenizer = Tokenizer(num_words=dictionary_length)\n",
        "tokenizer.fit_on_texts(df.Lyrics.values)\n",
        "post_seq = tokenizer.texts_to_sequences(df.Lyrics.values)\n",
        "post_seq_padded= sequence.pad_sequences(post_seq, maxlen=input_length)"
      ],
      "metadata": {
        "id": "m2rPRMINRmTB"
      },
      "execution_count": 12,
      "outputs": []
    },
    {
      "cell_type": "code",
      "source": [
        "from sklearn.preprocessing import LabelBinarizer\n",
        "y = df.Artist.values\n",
        "label_as_binary = LabelBinarizer()\n",
        "y_labels = label_as_binary.fit_transform(y)"
      ],
      "metadata": {
        "id": "9BP352jGR4JE"
      },
      "execution_count": 13,
      "outputs": []
    },
    {
      "cell_type": "code",
      "source": [
        "#Splitting raw text in the input into train and test data for pretrained embeddings\n",
        "X_train,X_val,y_train,y_val = train_test_split(df['Lyrics'].values,y_labels, test_size=0.3, random_state=23)\n",
        "X_val,X_test,y_val,y_test = train_test_split(X_val,y_val, test_size=0.5, random_state=23)#0.4*50%=20%"
      ],
      "metadata": {
        "id": "ZihUhS9UR-s6"
      },
      "execution_count": 14,
      "outputs": []
    },
    {
      "cell_type": "code",
      "source": [
        "#printing shapes of train data\n",
        "print(X_train.shape)\n",
        "print(X_val.shape)\n",
        "print(X_test.shape)"
      ],
      "metadata": {
        "colab": {
          "base_uri": "https://localhost:8080/"
        },
        "id": "lZLooQ7RSH40",
        "outputId": "463d9547-23c2-4944-c6b4-9eddc8fd5747"
      },
      "execution_count": 15,
      "outputs": [
        {
          "output_type": "stream",
          "name": "stdout",
          "text": [
            "(6490,)\n",
            "(1391,)\n",
            "(1391,)\n"
          ]
        }
      ]
    },
    {
      "cell_type": "markdown",
      "source": [
        "**LOADING GNEWS-SWIVEL MODEL**"
      ],
      "metadata": {
        "id": "79_6v_MHRAoi"
      }
    },
    {
      "cell_type": "code",
      "source": [
        "# Recreate the exact same model, including its weights and the optimizer\n",
        "\n",
        "from keras.models import load_model\n",
        "import tensorflow_hub as hub\n",
        "model = load_model('/content/drive/MyDrive/Deep Learning/part1/Model_4.hdf5',custom_objects={'KerasLayer':hub.KerasLayer})"
      ],
      "metadata": {
        "id": "f8ZEW4n0SJZP"
      },
      "execution_count": 16,
      "outputs": []
    },
    {
      "cell_type": "code",
      "source": [
        "# Show the model architecture\n",
        "\n",
        "model.summary()"
      ],
      "metadata": {
        "colab": {
          "base_uri": "https://localhost:8080/"
        },
        "id": "V3bTmJCJWozx",
        "outputId": "717943f2-a6de-4891-ec89-e9d60219f349"
      },
      "execution_count": 17,
      "outputs": [
        {
          "output_type": "stream",
          "name": "stdout",
          "text": [
            "Model: \"sequential_4\"\n",
            "_________________________________________________________________\n",
            " Layer (type)                Output Shape              Param #   \n",
            "=================================================================\n",
            " keras_layer_1 (KerasLayer)  (None, 50)                48190600  \n",
            "                                                                 \n",
            " dense_10 (Dense)            (None, 16)                816       \n",
            "                                                                 \n",
            " dropout_2 (Dropout)         (None, 16)                0         \n",
            "                                                                 \n",
            " dense_11 (Dense)            (None, 10)                170       \n",
            "                                                                 \n",
            "=================================================================\n",
            "Total params: 48,191,586\n",
            "Trainable params: 986\n",
            "Non-trainable params: 48,190,600\n",
            "_________________________________________________________________\n"
          ]
        }
      ]
    },
    {
      "cell_type": "code",
      "source": [
        "#Compile the model with required optimizer and loss function\n",
        "model.compile(optimizer='adam',\n",
        "              loss=\"categorical_crossentropy\",\n",
        "              metrics=['AUC'])\n",
        "\n",
        "\n",
        "y_pred= model.predict(X_test)\n",
        "\n",
        "#Testing the accuracy of model using the test data.\n",
        "print('\\n => Evaluating the model on test data')\n",
        "results = model.evaluate(X_test, y_test, batch_size=256)\n",
        "test_loss, test_acc_model1 = results\n",
        "print(\"Model AUC on test data: {}% \".format( round(test_acc_model1*100,2)))"
      ],
      "metadata": {
        "colab": {
          "base_uri": "https://localhost:8080/"
        },
        "id": "PsIjRdfBSZzQ",
        "outputId": "ff97c784-93f5-4d75-d7d9-19306e28938b"
      },
      "execution_count": 18,
      "outputs": [
        {
          "output_type": "stream",
          "name": "stdout",
          "text": [
            "\n",
            " => Evaluating the model on test data\n",
            "6/6 [==============================] - 2s 31ms/step - loss: 3.3037 - auc: 0.5610\n",
            "Model AUC on test data: 56.1% \n"
          ]
        }
      ]
    },
    {
      "cell_type": "code",
      "source": [
        "from sklearn.metrics import roc_auc_score\n",
        "print(round(roc_auc_score(y_test, y_pred)*100,2))"
      ],
      "metadata": {
        "colab": {
          "base_uri": "https://localhost:8080/"
        },
        "id": "OJbWkRzYjvIC",
        "outputId": "987b7b3e-e287-478a-8226-eb8f41684dc7"
      },
      "execution_count": 19,
      "outputs": [
        {
          "output_type": "stream",
          "name": "stdout",
          "text": [
            "56.32\n"
          ]
        }
      ]
    },
    {
      "cell_type": "markdown",
      "source": [
        "**BUILDING MODEL FROM SCRATCH-GNEWS-SWIVEL MODEL**\n",
        "\n",
        "\n"
      ],
      "metadata": {
        "id": "d9hv7uQsWtpu"
      }
    },
    {
      "cell_type": "code",
      "source": [
        "#Adding the Pre trained word embedding layer to the model\n",
        "import tensorflow_hub as hub\n",
        "\n",
        "\n",
        "hub_layer = hub.KerasLayer(\"https://tfhub.dev/google/nnlm-en-dim50/2\",input_shape=[], dtype=tf.string)\n",
        "pre_trained_model = Sequential()\n",
        "pre_trained_model.add(hub_layer)\n",
        "pre_trained_model.add(tf.keras.layers.Dense(16, activation='relu'))\n",
        "pre_trained_model.add(Dropout(0.3))\n",
        "pre_trained_model.add(tf.keras.layers.Dense(10,activation='softmax'))\n",
        "\n",
        "pre_trained_model.summary()\n",
        "\n",
        "\n",
        "#Compile the model with required optimizer and loss function\n",
        "pre_trained_model.compile(optimizer='adam',\n",
        "              loss=\"categorical_crossentropy\",\n",
        "              metrics=['AUC'])\n",
        "#Model is fitted to Training data and is validated with validation data\n",
        "hist_pre_trained = pre_trained_model.fit(X_train, y_train,\n",
        "          batch_size=256,\n",
        "          epochs=10,\n",
        "          validation_data=(X_val, y_val))\n",
        "\n",
        "#Testing the accuracy of model using the test data.\n",
        "print('\\n => Evaluating the model on test data')\n",
        "results = pre_trained_model.evaluate(X_test, y_test, batch_size=256)\n",
        "test_loss, test_acc_new_model = results\n",
        "print(\"Model accuracy on test data: {}% \".format( round(test_acc_new_model*100,2)))"
      ],
      "metadata": {
        "colab": {
          "base_uri": "https://localhost:8080/"
        },
        "id": "Mn170SgldQWp",
        "outputId": "598d980b-3657-44a7-d8b2-4155a5fa5c1f"
      },
      "execution_count": 20,
      "outputs": [
        {
          "output_type": "stream",
          "name": "stdout",
          "text": [
            "Model: \"sequential\"\n",
            "_________________________________________________________________\n",
            " Layer (type)                Output Shape              Param #   \n",
            "=================================================================\n",
            " keras_layer (KerasLayer)    (None, 50)                48190600  \n",
            "                                                                 \n",
            " dense (Dense)               (None, 16)                816       \n",
            "                                                                 \n",
            " dropout (Dropout)           (None, 16)                0         \n",
            "                                                                 \n",
            " dense_1 (Dense)             (None, 10)                170       \n",
            "                                                                 \n",
            "=================================================================\n",
            "Total params: 48,191,586\n",
            "Trainable params: 986\n",
            "Non-trainable params: 48,190,600\n",
            "_________________________________________________________________\n",
            "Epoch 1/10\n",
            "26/26 [==============================] - 3s 69ms/step - loss: 2.3125 - auc: 0.5495 - val_loss: 2.2746 - val_auc: 0.5771\n",
            "Epoch 2/10\n",
            "26/26 [==============================] - 1s 38ms/step - loss: 2.2674 - auc: 0.5831 - val_loss: 2.2519 - val_auc: 0.6055\n",
            "Epoch 3/10\n",
            "26/26 [==============================] - 1s 45ms/step - loss: 2.2404 - auc: 0.6073 - val_loss: 2.2273 - val_auc: 0.6231\n",
            "Epoch 4/10\n",
            "26/26 [==============================] - 1s 30ms/step - loss: 2.2139 - auc: 0.6217 - val_loss: 2.1983 - val_auc: 0.6396\n",
            "Epoch 5/10\n",
            "26/26 [==============================] - 1s 37ms/step - loss: 2.1825 - auc: 0.6368 - val_loss: 2.1642 - val_auc: 0.6565\n",
            "Epoch 6/10\n",
            "26/26 [==============================] - 1s 44ms/step - loss: 2.1412 - auc: 0.6611 - val_loss: 2.1290 - val_auc: 0.6830\n",
            "Epoch 7/10\n",
            "26/26 [==============================] - 1s 55ms/step - loss: 2.1100 - auc: 0.6815 - val_loss: 2.1011 - val_auc: 0.7051\n",
            "Epoch 8/10\n",
            "26/26 [==============================] - 1s 45ms/step - loss: 2.0830 - auc: 0.6963 - val_loss: 2.0703 - val_auc: 0.7215\n",
            "Epoch 9/10\n",
            "26/26 [==============================] - 1s 42ms/step - loss: 2.0658 - auc: 0.7086 - val_loss: 2.0436 - val_auc: 0.7371\n",
            "Epoch 10/10\n",
            "26/26 [==============================] - 1s 39ms/step - loss: 2.0420 - auc: 0.7173 - val_loss: 2.0151 - val_auc: 0.7503\n",
            "\n",
            " => Evaluating the model on test data\n",
            "6/6 [==============================] - 0s 19ms/step - loss: 1.9987 - auc: 0.7566\n",
            "Model accuracy on test data: 75.66% \n"
          ]
        }
      ]
    },
    {
      "cell_type": "code",
      "source": [
        "from tensorflow.python.tools import module_util\n",
        "#Training and validation accuracy graph for base model\n",
        "plt.plot(hist_pre_trained.history['auc'],label=\"Training Accuracy\")\n",
        "plt.plot(hist_pre_trained.history['val_auc'],label=\"Validation Accuracy\")\n",
        "plt.title('Training and validation accuracy for base model')\n",
        "plt.xlabel('Epochs')\n",
        "plt.ylabel('Accuracy')\n",
        "plt.legend()"
      ],
      "metadata": {
        "colab": {
          "base_uri": "https://localhost:8080/",
          "height": 312
        },
        "id": "eL7EQyb4Txef",
        "outputId": "51e1a202-6bc5-4da2-9c9d-c75a057b00f8"
      },
      "execution_count": 21,
      "outputs": [
        {
          "output_type": "execute_result",
          "data": {
            "text/plain": [
              "<matplotlib.legend.Legend at 0x7f6a04706a90>"
            ]
          },
          "metadata": {},
          "execution_count": 21
        },
        {
          "output_type": "display_data",
          "data": {
            "text/plain": [
              "<Figure size 432x288 with 1 Axes>"
            ],
            "image/png": "[encoded data removed]"
          },
          "metadata": {
            "needs_background": "light"
          }
        }
      ]
    },
    {
      "cell_type": "code",
      "source": [
        "#Training and validation loss plot for gnews model\n",
        "\n",
        "plt.plot(hist_pre_trained.history['loss'],label=\"Training loss\")\n",
        "plt.plot(hist_pre_trained.history['val_loss'],label=\"Validation loss\")\n",
        "plt.title('Training and validation auc')\n",
        "plt.xlabel('Epochs')\n",
        "plt.ylabel('loss')\n",
        "plt.legend()"
      ],
      "metadata": {
        "colab": {
          "base_uri": "https://localhost:8080/",
          "height": 312
        },
        "id": "tCtWp5RyUaNB",
        "outputId": "96a00a8c-fdd9-46e2-e375-8d26b4b3f398"
      },
      "execution_count": 22,
      "outputs": [
        {
          "output_type": "execute_result",
          "data": {
            "text/plain": [
              "<matplotlib.legend.Legend at 0x7f6a047a1610>"
            ]
          },
          "metadata": {},
          "execution_count": 22
        },
        {
          "output_type": "display_data",
          "data": {
            "text/plain": [
              "<Figure size 432x288 with 1 Axes>"
            ],
            "image/png": "[encoded data removed]"
          },
          "metadata": {
            "needs_background": "light"
          }
        }
      ]
    },
    {
      "cell_type": "code",
      "source": [
        "#parameters for the model\n",
        "batch_size = 256\n",
        "state_size = 8\n",
        "num_classes = 10\n",
        "embedding_size=50 "
      ],
      "metadata": {
        "id": "r-zEs3bBYVNU"
      },
      "execution_count": 23,
      "outputs": []
    },
    {
      "cell_type": "code",
      "source": [
        "#Splitting raw text in the input into train and test data for pretrained embeddings\n",
        "X_train1,X_val1,y_train1,y_val1 = train_test_split(post_seq_padded,y_labels, test_size=0.3, random_state=23)\n",
        "X_val1,X_test1,y_val1,y_test1 = train_test_split(X_val1,y_val1, test_size=0.5, random_state=23)#0.4*50%=20%"
      ],
      "metadata": {
        "id": "laLpiJCif9Xv"
      },
      "execution_count": 24,
      "outputs": []
    },
    {
      "cell_type": "code",
      "source": [
        "#printing shapes of train data\n",
        "print(X_train1.shape)\n",
        "print(y_train1.shape)\n",
        "print(X_val1.shape)\n",
        "print(y_val1.shape)\n",
        "print(X_test1.shape)\n",
        "print(y_test1.shape)\n",
        "print(dictionary_length)\n",
        "print(input_length)"
      ],
      "metadata": {
        "colab": {
          "base_uri": "https://localhost:8080/"
        },
        "id": "DYpZUKRpeywV",
        "outputId": "6366a9ad-7669-4019-9e53-433aa8bb6333"
      },
      "execution_count": 25,
      "outputs": [
        {
          "output_type": "stream",
          "name": "stdout",
          "text": [
            "(6490, 100)\n",
            "(6490, 10)\n",
            "(1391, 100)\n",
            "(1391, 10)\n",
            "(1391, 100)\n",
            "(1391, 10)\n",
            "1000\n",
            "100\n"
          ]
        }
      ]
    },
    {
      "cell_type": "markdown",
      "source": [
        "**LOADING CNN LSTM WITH KERNEL SIZE 5**"
      ],
      "metadata": {
        "id": "CHX5vnneYVD2"
      }
    },
    {
      "cell_type": "code",
      "source": [
        "from keras.models import load_model\n",
        "import tensorflow_hub as hub\n",
        "cnn_lstm_model = load_model('/content/drive/MyDrive/Deep Learning/part1/Model_8.hdf5',custom_objects={'KerasLayer':hub.KerasLayer})"
      ],
      "metadata": {
        "id": "8oIz3bk4atdm"
      },
      "execution_count": 26,
      "outputs": []
    },
    {
      "cell_type": "code",
      "source": [
        "cnn_lstm_model.summary()"
      ],
      "metadata": {
        "colab": {
          "base_uri": "https://localhost:8080/"
        },
        "id": "5j8b3n34awfq",
        "outputId": "c0218942-fbca-4aa4-e240-3a6763837065"
      },
      "execution_count": 27,
      "outputs": [
        {
          "output_type": "stream",
          "name": "stdout",
          "text": [
            "Model: \"sequential_16\"\n",
            "_________________________________________________________________\n",
            " Layer (type)                Output Shape              Param #   \n",
            "=================================================================\n",
            " embedding_13 (Embedding)    (None, 100, 50)           50000     \n",
            "                                                                 \n",
            " conv1d_8 (Conv1D)           (None, 98, 50)            7550      \n",
            "                                                                 \n",
            " max_pooling1d_2 (MaxPooling  (None, 49, 50)           0         \n",
            " 1D)                                                             \n",
            "                                                                 \n",
            " lstm_6 (LSTM)               (None, 25)                7600      \n",
            "                                                                 \n",
            " dense_29 (Dense)            (None, 10)                260       \n",
            "                                                                 \n",
            "=================================================================\n",
            "Total params: 65,410\n",
            "Trainable params: 65,410\n",
            "Non-trainable params: 0\n",
            "_________________________________________________________________\n"
          ]
        }
      ]
    },
    {
      "cell_type": "code",
      "source": [
        "cnn_lstm_model.compile(optimizer='adam',\n",
        "              loss='categorical_crossentropy',\n",
        "              metrics=['AUC'])\n",
        "\n",
        "#Fitting the model to the test data and validating with the validation data\n",
        "#hist_cnn_lstm = cnn_lstm_model.fit(X_train1, y_train1, batch_size=256, epochs=1, validation_data=(X_val1, y_val1))\n",
        "\n",
        "#Testing the accuracy of model using the test data.\n",
        "print('\\n => Evaluate on test data')\n",
        "results = cnn_lstm_model.evaluate(X_test1, y_test1, batch_size=256)\n",
        "test_loss, test_acc_models = results\n",
        "print(\"Model accuracy is: {}% \".format( round(test_acc_models*100,2)))"
      ],
      "metadata": {
        "colab": {
          "base_uri": "https://localhost:8080/"
        },
        "id": "SXaEoicfbC1X",
        "outputId": "920cffbc-8609-486a-f064-70e84dba25f7"
      },
      "execution_count": 28,
      "outputs": [
        {
          "output_type": "stream",
          "name": "stdout",
          "text": [
            "\n",
            " => Evaluate on test data\n",
            "6/6 [==============================] - 1s 35ms/step - loss: 3.6735 - auc: 0.5215\n",
            "Model accuracy is: 52.15% \n"
          ]
        }
      ]
    },
    {
      "cell_type": "markdown",
      "source": [
        "**BUILDING MODEL FROM SCRATCH-CNN LSTM WITH KERNEL SIZE 5** "
      ],
      "metadata": {
        "id": "cW7UJu3eYoNZ"
      }
    },
    {
      "cell_type": "code",
      "source": [
        "#CNN and LSTM\n",
        "pool_size=2\n",
        "cnn_lstm_model = Sequential()\n",
        "cnn_lstm_model.add(Embedding(dictionary_length,embedding_size,input_length=input_length))\n",
        "cnn_lstm_model.add(Conv1D(50, 3, padding='valid',activation='relu'))\n",
        "#cnn_lstm_model.add(GlobalAveragePooling1D())\n",
        "cnn_lstm_model.add(MaxPooling1D(pool_size=pool_size))\n",
        "cnn_lstm_model.add(LSTM(25,dropout=0.2, recurrent_dropout=0.2))\n",
        "#cnn_lstm_model.add(Dropout(0.2))\n",
        "#cnn_lstm_model.add(Dense(25, activation='relu'))\n",
        "cnn_lstm_model.add(Dense(10, activation='softmax'))\n",
        "\n",
        "\n",
        "cnn_lstm_model.compile(optimizer='adam',\n",
        "              loss='categorical_crossentropy',\n",
        "              metrics=['AUC'])\n",
        "\n",
        "cnn_lstm_model.summary()\n",
        "\n",
        "\n",
        "#Fitting the model to the test data and validating with the validation data\n",
        "hist_cnn_lstm = cnn_lstm_model.fit(X_train1, y_train1, batch_size=batch_size, epochs=10, validation_data=(X_val1, y_val1))\n",
        "\n",
        "#Testing the accuracy of model using the test data.\n",
        "print('\\n => Evaluate on test data')\n",
        "results = cnn_lstm_model.evaluate(X_test1, y_test1, batch_size=batch_size)\n",
        "test_loss, test_acc_model2 = results\n",
        "print(\"Model accuracy is: {}% \".format( round(test_acc_model2*100,2)))"
      ],
      "metadata": {
        "colab": {
          "base_uri": "https://localhost:8080/"
        },
        "id": "9uyQhhDTdIZy",
        "outputId": "2d6334d4-56e9-42f6-b778-81f784a5cebe"
      },
      "execution_count": 29,
      "outputs": [
        {
          "output_type": "stream",
          "name": "stdout",
          "text": [
            "Model: \"sequential_1\"\n",
            "_________________________________________________________________\n",
            " Layer (type)                Output Shape              Param #   \n",
            "=================================================================\n",
            " embedding (Embedding)       (None, 100, 50)           50000     \n",
            "                                                                 \n",
            " conv1d (Conv1D)             (None, 98, 50)            7550      \n",
            "                                                                 \n",
            " max_pooling1d (MaxPooling1D  (None, 49, 50)           0         \n",
            " )                                                               \n",
            "                                                                 \n",
            " lstm (LSTM)                 (None, 25)                7600      \n",
            "                                                                 \n",
            " dense_2 (Dense)             (None, 10)                260       \n",
            "                                                                 \n",
            "=================================================================\n",
            "Total params: 65,410\n",
            "Trainable params: 65,410\n",
            "Non-trainable params: 0\n",
            "_________________________________________________________________\n",
            "Epoch 1/10\n",
            "26/26 [==============================] - 8s 192ms/step - loss: 2.2737 - auc: 0.5669 - val_loss: 2.2621 - val_auc: 0.5757\n",
            "Epoch 2/10\n",
            "26/26 [==============================] - 4s 166ms/step - loss: 2.2062 - auc: 0.6263 - val_loss: 2.1654 - val_auc: 0.6476\n",
            "Epoch 3/10\n",
            "26/26 [==============================] - 4s 162ms/step - loss: 2.0492 - auc: 0.7111 - val_loss: 2.0113 - val_auc: 0.7289\n",
            "Epoch 4/10\n",
            "26/26 [==============================] - 4s 163ms/step - loss: 1.9026 - auc: 0.7660 - val_loss: 1.9336 - val_auc: 0.7589\n",
            "Epoch 5/10\n",
            "26/26 [==============================] - 4s 163ms/step - loss: 1.7893 - auc: 0.8021 - val_loss: 1.8484 - val_auc: 0.7851\n",
            "Epoch 6/10\n",
            "26/26 [==============================] - 4s 166ms/step - loss: 1.6868 - auc: 0.8302 - val_loss: 1.7783 - val_auc: 0.8041\n",
            "Epoch 7/10\n",
            "26/26 [==============================] - 4s 168ms/step - loss: 1.6049 - auc: 0.8501 - val_loss: 1.7590 - val_auc: 0.8108\n",
            "Epoch 8/10\n",
            "26/26 [==============================] - 4s 164ms/step - loss: 1.5472 - auc: 0.8629 - val_loss: 1.7143 - val_auc: 0.8237\n",
            "Epoch 9/10\n",
            "26/26 [==============================] - 4s 162ms/step - loss: 1.4789 - auc: 0.8759 - val_loss: 1.6734 - val_auc: 0.8331\n",
            "Epoch 10/10\n",
            "26/26 [==============================] - 4s 164ms/step - loss: 1.4349 - auc: 0.8838 - val_loss: 1.6189 - val_auc: 0.8453\n",
            "\n",
            " => Evaluate on test data\n",
            "6/6 [==============================] - 0s 33ms/step - loss: 1.5717 - auc: 0.8537\n",
            "Model accuracy is: 85.37% \n"
          ]
        }
      ]
    },
    {
      "cell_type": "code",
      "source": [
        "from tensorflow.python.tools import module_util\n",
        "#Training and validation accuracy graph for base model\n",
        "plt.plot(hist_cnn_lstm.history['auc'],label=\"Training Accuracy\")\n",
        "plt.plot(hist_cnn_lstm.history['val_auc'],label=\"Validation Accuracy\")\n",
        "plt.title('Training and validation accuracy for base model')\n",
        "plt.xlabel('Epochs')\n",
        "plt.ylabel('Accuracy')\n",
        "plt.legend()"
      ],
      "metadata": {
        "colab": {
          "base_uri": "https://localhost:8080/",
          "height": 312
        },
        "id": "yujNXTCvV2CV",
        "outputId": "3ecdeb3c-633d-429d-ef25-e9545d88e6eb"
      },
      "execution_count": 30,
      "outputs": [
        {
          "output_type": "execute_result",
          "data": {
            "text/plain": [
              "<matplotlib.legend.Legend at 0x7f69ffd63350>"
            ]
          },
          "metadata": {},
          "execution_count": 30
        },
        {
          "output_type": "display_data",
          "data": {
            "text/plain": [
              "<Figure size 432x288 with 1 Axes>"
            ],
            "image/png": "[encoded data removed]"
          },
          "metadata": {
            "needs_background": "light"
          }
        }
      ]
    },
    {
      "cell_type": "code",
      "source": [
        "#Training and validation loss plot for gnews model\n",
        "\n",
        "plt.plot(hist_cnn_lstm.history['loss'],label=\"Training loss\")\n",
        "plt.plot(hist_cnn_lstm.history['val_loss'],label=\"Validation loss\")\n",
        "plt.title('Training and validation auc')\n",
        "plt.xlabel('Epochs')\n",
        "plt.ylabel('loss')\n",
        "plt.legend()"
      ],
      "metadata": {
        "colab": {
          "base_uri": "https://localhost:8080/",
          "height": 312
        },
        "id": "SBVthR-aWVrj",
        "outputId": "bc20ba22-9cf0-4130-dfc4-19a32a0318df"
      },
      "execution_count": 31,
      "outputs": [
        {
          "output_type": "execute_result",
          "data": {
            "text/plain": [
              "<matplotlib.legend.Legend at 0x7f6a00a56910>"
            ]
          },
          "metadata": {},
          "execution_count": 31
        },
        {
          "output_type": "display_data",
          "data": {
            "text/plain": [
              "<Figure size 432x288 with 1 Axes>"
            ],
            "image/png": "[encoded data removed]"
          },
          "metadata": {
            "needs_background": "light"
          }
        }
      ]
    },
    {
      "cell_type": "code",
      "source": [
        "from prettytable import PrettyTable\n",
        "\n",
        "x = PrettyTable()\n",
        "print('\\n')\n",
        "print(\"Deatiled Performance of the all models\")\n",
        "x.field_names = [\"Model\", \"AUC\"]\n",
        "\n",
        "x.add_row([\"PRE Trained Embedding From Scratch\", round(test_acc_new_model,3)])\n",
        "x.add_row([\"Transfer Learning from model 4\", round(test_acc_model1,3)])\n",
        "x.add_row([\"Transfer Learning from model 8\", round(test_acc_models,3)])\n",
        "x.add_row([\"CNN_LSTM from Scratch\", round(test_acc_model2,3)])\n",
        "\n",
        "print(x)\n",
        "print('\\n')"
      ],
      "metadata": {
        "colab": {
          "base_uri": "https://localhost:8080/"
        },
        "id": "Cixi1zpidrRD",
        "outputId": "ec16ae42-db06-472d-e398-65e4bbd37cca"
      },
      "execution_count": 32,
      "outputs": [
        {
          "output_type": "stream",
          "name": "stdout",
          "text": [
            "\n",
            "\n",
            "Deatiled Performance of the all models\n",
            "+------------------------------------+-------+\n",
            "|               Model                |  AUC  |\n",
            "+------------------------------------+-------+\n",
            "| PRE Trained Embedding From Scratch | 0.757 |\n",
            "|   Transfer Learning from model 4   | 0.561 |\n",
            "|   Transfer Learning from model 8   | 0.522 |\n",
            "|       CNN_LSTM from Scratch        | 0.854 |\n",
            "+------------------------------------+-------+\n",
            "\n",
            "\n"
          ]
        }
      ]
    },
    {
      "cell_type": "code",
      "source": [
        "X_test[0]"
      ],
      "metadata": {
        "colab": {
          "base_uri": "https://localhost:8080/",
          "height": 139
        },
        "id": "kcXSqOED8xoQ",
        "outputId": "dfeeb879-ed13-497e-c39c-c52494a47b0b"
      },
      "execution_count": 33,
      "outputs": [
        {
          "output_type": "execute_result",
          "data": {
            "text/plain": [
              "\"warst du schon mal in der wuste? schon mal den tod gesehen? hunderttausend kinder sterben fur brot und die zahlen lugen nicht es ist die krankheit der menschen doch wir tun was wir wollen wir denken wie es uns gefallt hast du die erfahrung gemacht? hast du die plage gesehen? leute machen kinder einfach nur um zu fliehen im land des wettbewerbs ist kein mitleid mehr da und wir vergessen die armen wir machen weiter und weiter weiter und weiter dies ist nur ein punk rock song fur die die sehen dass es so nicht weitergeht wie ameisen im haufen sind wir programmiert aber es gibt immer mehr von dieser verfickten art aber dies ist nur ein punk rock song hast du schon mal nicht weitergewusst? schon mal in der scheisse gesteckt? die parteitagungen und die realpolitik die gesichter wechseln das gelaber bleibt alles wird geschluckt und so wird sich nichts andern dies ist nur ein punk rock song fur die die sehen dass es so nicht weitergeht wie fliessbandarbeiter tun wir unsere pflicht und es gibt noch mehr von diesen stumpfsinnigen idioten dies ist nur ein punk rock song 10 million dollars on a losing campaign 20 million starving and writhing in pain big strong people unwilling to give small in vision and perspective eins von funf kindem lebt in armut der menschheit lauft die zeit davon dies ist nur ein punk rock song fur die die sehen dass es so nicht weitergeht wie ameisen im haufen sind wir programmiert aber es gibt immer mehr von dieser verfickten art aber dies ist nur ein punk rock song figures don't lie they speak of human disease but we do what we want and we think what we please one in five kids below the poverty line one population running out of time dies ist nur ein punk rock song dies ist nur ein punk rock song dies ist nur ein punk rock song\""
            ],
            "application/vnd.google.colaboratory.intrinsic+json": {
              "type": "string"
            }
          },
          "metadata": {},
          "execution_count": 33
        }
      ]
    },
    {
      "cell_type": "code",
      "source": [
        "y_pred[:5,:].round(2)"
      ],
      "metadata": {
        "colab": {
          "base_uri": "https://localhost:8080/"
        },
        "id": "7rdCtmk29akP",
        "outputId": "be346939-192e-40e8-e809-ac4aa4608161"
      },
      "execution_count": 34,
      "outputs": [
        {
          "output_type": "execute_result",
          "data": {
            "text/plain": [
              "array([[0.  , 0.  , 0.01, 0.  , 0.02, 0.  , 0.52, 0.13, 0.  , 0.32],\n",
              "       [0.02, 0.  , 0.05, 0.  , 0.02, 0.13, 0.01, 0.26, 0.01, 0.49],\n",
              "       [0.01, 0.01, 0.06, 0.  , 0.03, 0.08, 0.02, 0.24, 0.01, 0.55],\n",
              "       [0.  , 0.01, 0.02, 0.01, 0.03, 0.03, 0.09, 0.38, 0.01, 0.41],\n",
              "       [0.  , 0.  , 0.  , 0.01, 0.01, 0.  , 0.03, 0.82, 0.01, 0.11]],\n",
              "      dtype=float32)"
            ]
          },
          "metadata": {},
          "execution_count": 34
        }
      ]
    },
    {
      "cell_type": "markdown",
      "source": [
        "ARTIST PREDICTION USING BEST PERFORMING MODEL"
      ],
      "metadata": {
        "id": "GKkUP8yX8azy"
      }
    },
    {
      "cell_type": "code",
      "source": [
        "Predictions =pd.DataFrame(X_test)  \n",
        "Predictions['Artist']= label_as_binary.inverse_transform(y_pred.round())"
      ],
      "metadata": {
        "id": "Yq4Ypvbl9eQs"
      },
      "execution_count": 41,
      "outputs": []
    },
    {
      "cell_type": "code",
      "source": [
        "Predictions"
      ],
      "metadata": {
        "colab": {
          "base_uri": "https://localhost:8080/",
          "height": 424
        },
        "id": "MLqSMUML9ktu",
        "outputId": "0f7a40be-1ad0-4904-d62b-d762030c1623"
      },
      "execution_count": 42,
      "outputs": [
        {
          "output_type": "execute_result",
          "data": {
            "text/plain": [
              "                                                      0              Artist\n",
              "0     warst du schon mal in der wuste? schon mal den...      elvis costello\n",
              "1     Just hear those sleigh bells jingling, ring-ti...        bad religion\n",
              "2     Look out my window.I can see tomorrow. Just a ...  the rolling stones\n",
              "3     (M Jagger/K Richards) You know that we do take...        bad religion\n",
              "4     Said I'm all up in my feelings Cover them on t...       elvis presley\n",
              "...                                                 ...                 ...\n",
              "1386  I know your eyes in the morning sun I feel you...        bad religion\n",
              "1387  Oh me oh my Get out of your 1950's fantasy, Yo...        bad religion\n",
              "1388  Sleep, my little Jesus On Thy bed of hay While...        bad religion\n",
              "1389  There are lots of girls in the mountains And t...  the rolling stones\n",
              "1390  'Neath the stars, at bazaars Often I've had to...        bad religion\n",
              "\n",
              "[1391 rows x 2 columns]"
            ],
            "text/html": [
              "\n",
              "  <div id=\"df-c7b6c7e6-6060-4187-ab75-8dcb6bae8b43\">\n",
              "    <div class=\"colab-df-container\">\n",
              "      <div>\n",
              "<style scoped>\n",
              "    .dataframe tbody tr th:only-of-type {\n",
              "        vertical-align: middle;\n",
              "    }\n",
              "\n",
              "    .dataframe tbody tr th {\n",
              "        vertical-align: top;\n",
              "    }\n",
              "\n",
              "    .dataframe thead th {\n",
              "        text-align: right;\n",
              "    }\n",
              "</style>\n",
              "<table border=\"1\" class=\"dataframe\">\n",
              "  <thead>\n",
              "    <tr style=\"text-align: right;\">\n",
              "      <th></th>\n",
              "      <th>0</th>\n",
              "      <th>Artist</th>\n",
              "    </tr>\n",
              "  </thead>\n",
              "  <tbody>\n",
              "    <tr>\n",
              "      <th>0</th>\n",
              "      <td>warst du schon mal in der wuste? schon mal den...</td>\n",
              "      <td>elvis costello</td>\n",
              "    </tr>\n",
              "    <tr>\n",
              "      <th>1</th>\n",
              "      <td>Just hear those sleigh bells jingling, ring-ti...</td>\n",
              "      <td>bad religion</td>\n",
              "    </tr>\n",
              "    <tr>\n",
              "      <th>2</th>\n",
              "      <td>Look out my window.I can see tomorrow. Just a ...</td>\n",
              "      <td>the rolling stones</td>\n",
              "    </tr>\n",
              "    <tr>\n",
              "      <th>3</th>\n",
              "      <td>(M Jagger/K Richards) You know that we do take...</td>\n",
              "      <td>bad religion</td>\n",
              "    </tr>\n",
              "    <tr>\n",
              "      <th>4</th>\n",
              "      <td>Said I'm all up in my feelings Cover them on t...</td>\n",
              "      <td>elvis presley</td>\n",
              "    </tr>\n",
              "    <tr>\n",
              "      <th>...</th>\n",
              "      <td>...</td>\n",
              "      <td>...</td>\n",
              "    </tr>\n",
              "    <tr>\n",
              "      <th>1386</th>\n",
              "      <td>I know your eyes in the morning sun I feel you...</td>\n",
              "      <td>bad religion</td>\n",
              "    </tr>\n",
              "    <tr>\n",
              "      <th>1387</th>\n",
              "      <td>Oh me oh my Get out of your 1950's fantasy, Yo...</td>\n",
              "      <td>bad religion</td>\n",
              "    </tr>\n",
              "    <tr>\n",
              "      <th>1388</th>\n",
              "      <td>Sleep, my little Jesus On Thy bed of hay While...</td>\n",
              "      <td>bad religion</td>\n",
              "    </tr>\n",
              "    <tr>\n",
              "      <th>1389</th>\n",
              "      <td>There are lots of girls in the mountains And t...</td>\n",
              "      <td>the rolling stones</td>\n",
              "    </tr>\n",
              "    <tr>\n",
              "      <th>1390</th>\n",
              "      <td>'Neath the stars, at bazaars Often I've had to...</td>\n",
              "      <td>bad religion</td>\n",
              "    </tr>\n",
              "  </tbody>\n",
              "</table>\n",
              "<p>1391 rows × 2 columns</p>\n",
              "</div>\n",
              "      <button class=\"colab-df-convert\" onclick=\"convertToInteractive('df-c7b6c7e6-6060-4187-ab75-8dcb6bae8b43')\"\n",
              "              title=\"Convert this dataframe to an interactive table.\"\n",
              "              style=\"display:none;\">\n",
              "        \n",
              "  <svg xmlns=\"http://www.w3.org/2000/svg\" height=\"24px\"viewBox=\"0 0 24 24\"\n",
              "       width=\"24px\">\n",
              "    <path d=\"M0 0h24v24H0V0z\" fill=\"none\"/>\n",
              "    <path d=\"M18.56 5.44l.94 2.06.94-2.06 2.06-.94-2.06-.94-.94-2.06-.94 2.06-2.06.94zm-11 1L8.5 8.5l.94-2.06 2.06-.94-2.06-.94L8.5 2.5l-.94 2.06-2.06.94zm10 10l.94 2.06.94-2.06 2.06-.94-2.06-.94-.94-2.06-.94 2.06-2.06.94z\"/><path d=\"M17.41 7.96l-1.37-1.37c-.4-.4-.92-.59-1.43-.59-.52 0-1.04.2-1.43.59L10.3 9.45l-7.72 7.72c-.78.78-.78 2.05 0 2.83L4 21.41c.39.39.9.59 1.41.59.51 0 1.02-.2 1.41-.59l7.78-7.78 2.81-2.81c.8-.78.8-2.07 0-2.86zM5.41 20L4 18.59l7.72-7.72 1.47 1.35L5.41 20z\"/>\n",
              "  </svg>\n",
              "      </button>\n",
              "      \n",
              "  <style>\n",
              "    .colab-df-container {\n",
              "      display:flex;\n",
              "      flex-wrap:wrap;\n",
              "      gap: 12px;\n",
              "    }\n",
              "\n",
              "    .colab-df-convert {\n",
              "      background-color: #E8F0FE;\n",
              "      border: none;\n",
              "      border-radius: 50%;\n",
              "      cursor: pointer;\n",
              "      display: none;\n",
              "      fill: #1967D2;\n",
              "      height: 32px;\n",
              "      padding: 0 0 0 0;\n",
              "      width: 32px;\n",
              "    }\n",
              "\n",
              "    .colab-df-convert:hover {\n",
              "      background-color: #E2EBFA;\n",
              "      box-shadow: 0px 1px 2px rgba(60, 64, 67, 0.3), 0px 1px 3px 1px rgba(60, 64, 67, 0.15);\n",
              "      fill: #174EA6;\n",
              "    }\n",
              "\n",
              "    [theme=dark] .colab-df-convert {\n",
              "      background-color: #3B4455;\n",
              "      fill: #D2E3FC;\n",
              "    }\n",
              "\n",
              "    [theme=dark] .colab-df-convert:hover {\n",
              "      background-color: #434B5C;\n",
              "      box-shadow: 0px 1px 3px 1px rgba(0, 0, 0, 0.15);\n",
              "      filter: drop-shadow(0px 1px 2px rgba(0, 0, 0, 0.3));\n",
              "      fill: #FFFFFF;\n",
              "    }\n",
              "  </style>\n",
              "\n",
              "      <script>\n",
              "        const buttonEl =\n",
              "          document.querySelector('#df-c7b6c7e6-6060-4187-ab75-8dcb6bae8b43 button.colab-df-convert');\n",
              "        buttonEl.style.display =\n",
              "          google.colab.kernel.accessAllowed ? 'block' : 'none';\n",
              "\n",
              "        async function convertToInteractive(key) {\n",
              "          const element = document.querySelector('#df-c7b6c7e6-6060-4187-ab75-8dcb6bae8b43');\n",
              "          const dataTable =\n",
              "            await google.colab.kernel.invokeFunction('convertToInteractive',\n",
              "                                                     [key], {});\n",
              "          if (!dataTable) return;\n",
              "\n",
              "          const docLinkHtml = 'Like what you see? Visit the ' +\n",
              "            '<a target=\"_blank\" href=https://colab.research.google.com/notebooks/data_table.ipynb>data table notebook</a>'\n",
              "            + ' to learn more about interactive tables.';\n",
              "          element.innerHTML = '';\n",
              "          dataTable['output_type'] = 'display_data';\n",
              "          await google.colab.output.renderOutput(dataTable, element);\n",
              "          const docLink = document.createElement('div');\n",
              "          docLink.innerHTML = docLinkHtml;\n",
              "          element.appendChild(docLink);\n",
              "        }\n",
              "      </script>\n",
              "    </div>\n",
              "  </div>\n",
              "  "
            ]
          },
          "metadata": {},
          "execution_count": 42
        }
      ]
    }
  ]
}